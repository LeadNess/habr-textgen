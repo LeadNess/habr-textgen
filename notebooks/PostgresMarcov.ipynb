{
 "cells": [
  {
   "cell_type": "markdown",
   "metadata": {},
   "source": [
    "# Input text genarators"
   ]
  },
  {
   "cell_type": "markdown",
   "metadata": {},
   "source": [
    "## WikiStorage - class for working with wiki articles stored in MongoDB"
   ]
  },
  {
   "cell_type": "code",
   "execution_count": 4,
   "metadata": {},
   "outputs": [],
   "source": [
    "from typing import Generator\n",
    "import pymongo\n",
    "\n",
    "\n",
    "class WikiStorage:\n",
    "    \"\"\"Class for working with MongoDB\"\"\"\n",
    "\n",
    "    db: pymongo.database.Database\n",
    "    col: pymongo.collection.Collection\n",
    "\n",
    "    def __init__(self, db: pymongo.database.Database, col: pymongo.collection.Collection):\n",
    "        self.db = db\n",
    "        self.col = col\n",
    "\n",
    "    @classmethod\n",
    "    def connect(cls, host: str, port=27017, db_name='wiki', col_name='articles'):\n",
    "        db = pymongo.MongoClient(host, port, unicode_decode_error_handler='ignore')[db_name]\n",
    "        return cls(\n",
    "            db=db,\n",
    "            col=db[col_name])\n",
    "\n",
    "    def get_articles(self, count=0) -> Generator:\n",
    "        return self.col.find({}).limit(count)\n",
    "\n",
    "    def get_article(self, title) -> dict:\n",
    "        doc = self.col.find_one({'title': title})\n",
    "        return doc if doc else {}\n",
    "\n",
    "    def get_articles_headings_texts(self, count=0) -> list:\n",
    "        for article in self.get_articles(count):\n",
    "            yield article['text']['Заголовок']['text']"
   ]
  },
  {
   "cell_type": "markdown",
   "metadata": {},
   "source": [
    "## Postgres storage - base class for all classes working with PostgreSQL"
   ]
  },
  {
   "cell_type": "code",
   "execution_count": 5,
   "metadata": {},
   "outputs": [],
   "source": [
    "from typing import Generator\n",
    "import psycopg2\n",
    "\n",
    "class PostgresStorage:\n",
    "    \n",
    "    conn: psycopg2.extensions.connection\n",
    "    \n",
    "    def __init__(self, conn):\n",
    "        self.conn = conn\n",
    "\n",
    "    @classmethod\n",
    "    def connect(cls, \n",
    "                host: str, \n",
    "                port: int = 5432,\n",
    "                user: str = 'postgres',\n",
    "                password: str = 'password',\n",
    "                dbname: str = 'postgres'):\n",
    "        return cls(conn=psycopg2.connect(\n",
    "            host=host, port=port, user=user, password=password, dbname=dbname))"
   ]
  },
  {
   "cell_type": "markdown",
   "metadata": {},
   "source": [
    "## Habr storage - class for working posts from habr stored in PostgreSQL"
   ]
  },
  {
   "cell_type": "code",
   "execution_count": 6,
   "metadata": {},
   "outputs": [],
   "source": [
    "class HabrStorage(PostgresStorage):\n",
    "\n",
    "    def get_posts(self, \n",
    "                  count: int = 0, \n",
    "                  habs_list: list = None, \n",
    "                  tags_list: list = None) -> Generator:\n",
    "        if not habs_list and not tags_list:\n",
    "            cursor = self.conn.cursor()\n",
    "            sql = 'SELECT * FROM posts'\n",
    "            if count:\n",
    "                sql += ' LIMIT %d' % count\n",
    "            cursor.execute(sql)\n",
    "            return (post for post in cursor.fetchall())\n",
    "        elif habs_list:\n",
    "            return self.__get_posts_by_habs(count, habs_list)\n",
    "        elif tags_list:\n",
    "            return self.__get_posts_by_tags(count, tags_list)\n",
    "\n",
    "    def get_posts_texts(self,\n",
    "                        count: int = 0,\n",
    "                        habs_list: list = None, \n",
    "                        tags_list: list = None) -> Generator:\n",
    "        posts_texts_gen = (post[2] for post in self.get_posts(count, habs_list, tags_list))\n",
    "        return posts_texts_gen\n",
    "\n",
    "    def __get_posts_by_habs(self, \n",
    "                            count: int,\n",
    "                            habs_list: list) -> Generator:\n",
    "        sql = '''SELECT P.* \n",
    "                   FROM posts P JOIN habs H ON P.post_id = H.post_id\n",
    "                  WHERE H.hab in (%s)''' % ''.join([\"'\" + str(hab) + \"', \" for hab in habs_list])[:-2]\n",
    "        sql = sql + \" LIMIT %d\" % count if count > 0 else sql\n",
    "        cursor = self.conn.cursor()\n",
    "        cursor.execute(sql)\n",
    "        return (post for post in cursor.fetchall())\n",
    "\n",
    "    def __get_posts_by_tags(self, \n",
    "                            count: int,\n",
    "                            tags_list: list) -> Generator:\n",
    "        sql = '''SELECT P.* \n",
    "                   FROM posts P JOIN tags T ON P.post_id = T.post_id\n",
    "                  WHERE T.tag in (%s)''' % ''.join([\"'\" + str(tag) + \"', \" for tag in tags_list])[:-2]\n",
    "        sql = sql + \" LIMIT %d\" % count if count > 0 else sql\n",
    "        cursor = self.conn.cursor()\n",
    "        cursor.execute(sql)\n",
    "        return (post for post in cursor.fetchall())"
   ]
  },
  {
   "cell_type": "markdown",
   "metadata": {},
   "source": [
    "## Text processors"
   ]
  },
  {
   "cell_type": "code",
   "execution_count": 7,
   "metadata": {},
   "outputs": [],
   "source": [
    "from typing import Generator, Iterable\n",
    "import re\n",
    "import nltk\n",
    "\n",
    "\n",
    "class Tokenizer:\n",
    "    to_sentences = re.compile(r'(?<!\\w\\.\\w.)(?<![A-Z][a-z]\\.)(?<=\\.|\\?)\\s')\n",
    "    remove_brackets = re.compile(r' \\((.*?)\\)')\n",
    "    remove_punctuation = re.compile(r'[^a-zA-Zа-яА-Я ]')\n",
    "\n",
    "    @classmethod\n",
    "    def tokenize(cls, text: str, remove_punctuation=True, remove_brackets=True) -> Generator:\n",
    "        buf = text.split('\\n')\n",
    "        buf = (item for item in buf if item)\n",
    "        sentences = (sentence[:-1].lower().strip()\n",
    "                     for sentence in cls.to_sentences.split(' '.join(buf))\n",
    "                     if sentence[:-1])\n",
    "        if remove_brackets:\n",
    "            sentences = (cls.remove_brackets.sub('', sentence) for sentence in sentences)\n",
    "        if remove_punctuation:\n",
    "            return (cls.remove_punctuation.sub('', sentence) for sentence in sentences)\n",
    "        return sentences\n",
    "\n",
    "\n",
    "class TextProcessor:\n",
    "    tokenizer = Tokenizer()\n",
    "\n",
    "    @classmethod\n",
    "    def get_sentences_gens(cls, texts: Iterable, remove_punctuation=True, remove_brackets=True) -> Generator:\n",
    "        for text in texts:\n",
    "            yield cls.tokenizer.tokenize(\n",
    "                text=text,\n",
    "                remove_punctuation=remove_punctuation,\n",
    "                remove_brackets=remove_brackets)\n",
    "\n",
    "    @classmethod\n",
    "    def get_text_gen(cls, text_gens_gen: Iterable) -> Generator:\n",
    "        for text_gen in text_gens_gen:\n",
    "            for sentences_gen in cls.get_sentences_gens(text_gen):\n",
    "                for sentence in sentences_gen:\n",
    "                    yield sentence.split()\n",
    "\n",
    "    @classmethod\n",
    "    def get_ngram_gen(cls, text_gens_gen: Iterable, ngram_size: int = 3) -> Generator:\n",
    "        for text_gen in text_gens_gen:\n",
    "            for sentences_gen in cls.get_sentences_gens(text_gen):\n",
    "                for sentence in sentences_gen:\n",
    "                    yield [''.join(item) for item in nltk.ngrams(sentence, ngram_size)]"
   ]
  },
  {
   "cell_type": "markdown",
   "metadata": {},
   "source": [
    "## Words encoder - class for encoding/decoding words stored as int nums"
   ]
  },
  {
   "cell_type": "code",
   "execution_count": 8,
   "metadata": {},
   "outputs": [],
   "source": [
    "import json\n",
    "from typing import Generator\n",
    "        \n",
    "class WordsEncoder:\n",
    "    \n",
    "    counter: int\n",
    "    word2int: dict\n",
    "    int2word: dict\n",
    "    begin_word: int = 0\n",
    "    end_word: int = -1\n",
    "        \n",
    "    def __init__(self, counter: int = None, word2int: dict = None, int2word: dict = None):\n",
    "        self.counter = counter\n",
    "        self.word2int = word2int\n",
    "        self.int2word = int2word\n",
    "\n",
    "    def fit(self, text_corpus):\n",
    "        self.counter = 0\n",
    "        self.word2int = {\n",
    "            self.begin_word: self.begin_word,\n",
    "            self.end_word: self.end_word\n",
    "        }\n",
    "        self.int2word = {\n",
    "            self.begin_word: self.begin_word,\n",
    "            self.end_word: self.end_word\n",
    "        }\n",
    "        for sentence in text_corpus:\n",
    "            for word in sentence:\n",
    "                if word not in self.word2int:\n",
    "                    self.counter += 1\n",
    "                    self.word2int[word] = self.counter\n",
    "                    self.int2word[self.counter] = word\n",
    "                    \n",
    "    def fit_encode(self, text_corpus) -> list:\n",
    "        corpus = list(text_corpus) if isinstance(text_corpus, Generator) else text_corpus\n",
    "        self.fit(corpus)\n",
    "        return self.encode_text_corpus_gen(corpus)\n",
    "\n",
    "    def encode_words_list(self, words_list: list) -> list:\n",
    "        return [self.word2int[word] for word in words_list]\n",
    "\n",
    "    def encode_text_corpus(self, text_corpus: list) -> list:\n",
    "        \"\"\"List of lists of words\"\"\"\n",
    "        return [self.encode_words_list(words_list) for words_list in text_corpus]\n",
    "\n",
    "    def encode_text_corpus_gen(self, text_corpus_gen: Generator) -> Generator:\n",
    "        \"\"\"List of lists of words\"\"\"\n",
    "        return (self.encode_words_list(sentence) for sentence in text_corpus_gen)\n",
    "\n",
    "    def decode_codes_list(self, codes_list: list) -> list:\n",
    "        return [self.int2word[code] for code in codes_list]\n",
    "\n",
    "    def to_dict(self):\n",
    "        \"\"\"\n",
    "        Returns the underlying data as a Python dict.\n",
    "        \"\"\"\n",
    "        return {\n",
    "            \"counter\": self.counter,\n",
    "            \"word2int\": self.word2int,\n",
    "            \"int2word\": self.int2word\n",
    "        }\n",
    "\n",
    "    def to_json(self):\n",
    "        \"\"\"\n",
    "        Returns the underlying data as a JSON string.\n",
    "        \"\"\"\n",
    "        return json.dumps(self.to_dict())\n",
    "\n",
    "    @classmethod\n",
    "    def from_dict(cls, obj):\n",
    "\n",
    "        int2word = obj[\"int2word\"]\n",
    "        for key in int2word:\n",
    "            int2word[int(key)] = int2word.pop(key)\n",
    "\n",
    "        int2word[cls.end_word] = cls.end_word\n",
    "        int2word[cls.begin_word] = cls.begin_word\n",
    "\n",
    "        word2int = obj[\"word2int\"]\n",
    "        word2int[cls.end_word] = int(word2int.pop(str(cls.end_word)))\n",
    "        word2int[cls.begin_word] = int(word2int.pop(str(cls.begin_word)))\n",
    "\n",
    "        return cls(\n",
    "            counter=obj[\"counter\"],\n",
    "            word2int=word2int,\n",
    "            int2word=int2word\n",
    "        )\n",
    "\n",
    "    @classmethod\n",
    "    def from_json(cls, json_str):\n",
    "        return cls.from_dict(json.loads(json_str))"
   ]
  },
  {
   "cell_type": "markdown",
   "metadata": {},
   "source": [
    "## Encoder storage - class for working with words encoder stored in PostgreSQL"
   ]
  },
  {
   "cell_type": "code",
   "execution_count": 9,
   "metadata": {},
   "outputs": [],
   "source": [
    "class EncoderStorage(PostgresStorage):\n",
    "    \n",
    "    model_name: str\n",
    "    begin_word: int = 0\n",
    "    end_word: int = -1\n",
    "        \n",
    "    def add_encoder(self, model_name: str, encoder: WordsEncoder):\n",
    "        self.model_name = model_name\n",
    "        \n",
    "        cursor = self.conn.cursor()\n",
    "        cursor.execute('CALL add_encoder(%s)', [model_name])\n",
    "        self.conn.commit()\n",
    "        \n",
    "        for code, word in encoder.int2word.items():\n",
    "            sql = f'''INSERT INTO {model_name}_encoder(code, word)\n",
    "                      VALUES (%s, %s)'''\n",
    "            cursor.execute(sql, [code, word])           \n",
    "        self.conn.commit()\n",
    "        self.__create_indexes(model_name)        \n",
    "            \n",
    "    def delete_encoder(self, model_name: str):\n",
    "        cursor = self.conn.cursor()\n",
    "        cursor.execute('CALL delete_encoder(%s)', [model_name])\n",
    "        self.conn.commit()\n",
    "        \n",
    "    def load_encoder(self, model_name: str) -> WordsEncoder:\n",
    "        cursor = self.conn.cursor()\n",
    "        cursor.execute(f'SELECT code, word FROM {model_name}_encoder')\n",
    "        int2word = {}\n",
    "        word2int = {}\n",
    "        for row in cursor.fetchall():\n",
    "            code, word = row[0], row[1]\n",
    "            int2word[code] = word\n",
    "            word2int[word] = code\n",
    "        word2int[self.end_word] = int(word2int.pop(str(self.end_word)))\n",
    "        word2int[self.begin_word] = int(word2int.pop(str(self.begin_word)))\n",
    "        counter = len(int2word) - 2 # except begin and end words\n",
    "        return WordsEncoder(counter=counter,\n",
    "                            int2word=int2word,\n",
    "                            word2int=word2int)\n",
    "        \n",
    "    def __create_indexes(self, model_name: str):\n",
    "        cursor = self.conn.cursor()\n",
    "        cursor.execute('CALL create_encoder_indexes(%s)', [model_name]);\n",
    "        self.conn.commit()\n",
    "        \n",
    "    def __drop_indexes(self, model_name: str):\n",
    "        cursor = self.conn.cursor()\n",
    "        cursor.execute('CALL drop_encoder_indexes(%s)', [model_name]);\n",
    "        self.conn.commit()"
   ]
  },
  {
   "cell_type": "markdown",
   "metadata": {},
   "source": [
    "# Chain storage - realization of markov chain stored in PostgreSQL"
   ]
  },
  {
   "cell_type": "code",
   "execution_count": 10,
   "metadata": {},
   "outputs": [],
   "source": [
    "import random\n",
    "import operator\n",
    "import bisect\n",
    "import json\n",
    "import copy\n",
    "\n",
    "\n",
    "def accumulate(iterable, func=operator.add):\n",
    "    it = iter(iterable)\n",
    "    total = next(it)\n",
    "    yield total\n",
    "    for element in it:\n",
    "        total = func(total, element)\n",
    "        yield total\n",
    "\n",
    "def compile_next(next_dict):\n",
    "    words = list(next_dict.keys())\n",
    "    cff = list(accumulate(next_dict.values()))\n",
    "    return [words, cff]\n",
    "\n",
    "\n",
    "class ChainStorage(PostgresStorage):\n",
    "    \n",
    "    begin_word: int = 0\n",
    "    end_word: int = -1\n",
    "        \n",
    "    def add_model(self, model_name: str, train_corpus: list, state_size: int):\n",
    "        model_dict = self.__build_model(train_corpus, state_size)\n",
    "        \n",
    "        cursor = self.conn.cursor()\n",
    "        cursor.execute('CALL add_model(%s, %s)', [model_name, self.end_word])\n",
    "        self.conn.commit()\n",
    "        \n",
    "        for state_tuple in model_dict:\n",
    "            buf = model_dict[state_tuple]\n",
    "            choices_list, cumdist_list = buf[0], buf[1] \n",
    "            self.__add_state(cursor, model_name, state_tuple, choices_list, cumdist_list)            \n",
    "        self.conn.commit()\n",
    "        self.__create_index(model_name)\n",
    "        \n",
    "        del model_dict\n",
    "            \n",
    "    def delete_model(self, model_name: str):\n",
    "        cursor = self.conn.cursor()\n",
    "        cursor.execute('CALL delete_model(%s)', [model_name])\n",
    "        self.conn.commit()\n",
    "        \n",
    "    def walk(self, model_name: str, init_state: list, phrase_len: int = 10):\n",
    "        cursor = self.conn.cursor()\n",
    "        cursor.execute(f'SELECT chain_walk_{model_name}(%s, %s)', [init_state, phrase_len])\n",
    "        return cursor.fetchone()[0] or []\n",
    "    \n",
    "    def __build_model(self, train_corpus, state_size: int) -> dict:\n",
    "        model = {}\n",
    "\n",
    "        for run in train_corpus:\n",
    "            items = ([ self.begin_word ] * state_size) + run + [ self.end_word ]\n",
    "            for i in range(len(run) + 1):\n",
    "                state = tuple(items[i:i+state_size])\n",
    "                follow = items[i+state_size]\n",
    "                if state not in model:\n",
    "                    model[state] = {}\n",
    "\n",
    "                if follow not in model[state]:\n",
    "                    model[state][follow] = 0\n",
    "\n",
    "                model[state][follow] += 1\n",
    "                \n",
    "        model = { state: compile_next(next_dict) for (state, next_dict) in model.items() }\n",
    "        return model\n",
    "    \n",
    "    def __add_state(self,\n",
    "            cursor,\n",
    "            model_name: str,\n",
    "            state: tuple, \n",
    "            choices: list, \n",
    "            cumdist: list):\n",
    "        sql = f'''INSERT INTO {model_name}(state, choices, cumdist)\n",
    "                  VALUES (%s, %s, %s)\n",
    "                  ON CONFLICT DO NOTHING'''\n",
    "        cursor.execute(sql, [list(state), choices, cumdist])\n",
    "    \n",
    "    def __create_index(self, model_name: str, hash_index: bool = True):\n",
    "        cursor = self.conn.cursor()\n",
    "        cursor.execute('CALL create_model_table_index(%s, %s)', [model_name, hash_index]);\n",
    "        self.conn.commit()\n",
    "        \n",
    "    def __drop_index(self, model_name: str):\n",
    "        cursor = self.conn.cursor()\n",
    "        cursor.execute('CALL drop_model_table_index(%s)', [model_name]);\n",
    "        self.conn.commit()"
   ]
  },
  {
   "cell_type": "markdown",
   "metadata": {},
   "source": [
    "## Work example"
   ]
  },
  {
   "cell_type": "code",
   "execution_count": 11,
   "metadata": {},
   "outputs": [
    {
     "ename": "OperationalError",
     "evalue": "FATAL:  password authentication failed for user \"postgres\"\n",
     "output_type": "error",
     "traceback": [
      "\u001b[0;31m---------------------------------------------------------------------------\u001b[0m",
      "\u001b[0;31mOperationalError\u001b[0m                          Traceback (most recent call last)",
      "\u001b[0;32m<ipython-input-11-d902177d6810>\u001b[0m in \u001b[0;36m<module>\u001b[0;34m\u001b[0m\n\u001b[1;32m      6\u001b[0m ]\n\u001b[1;32m      7\u001b[0m \u001b[0;34m\u001b[0m\u001b[0m\n\u001b[0;32m----> 8\u001b[0;31m \u001b[0mpg_model\u001b[0m \u001b[0;34m=\u001b[0m \u001b[0mChainStorage\u001b[0m\u001b[0;34m.\u001b[0m\u001b[0mconnect\u001b[0m\u001b[0;34m(\u001b[0m\u001b[0;34m'172.17.0.2'\u001b[0m\u001b[0;34m,\u001b[0m \u001b[0mdbname\u001b[0m\u001b[0;34m=\u001b[0m\u001b[0;34m'markov'\u001b[0m\u001b[0;34m)\u001b[0m\u001b[0;34m\u001b[0m\u001b[0;34m\u001b[0m\u001b[0m\n\u001b[0m\u001b[1;32m      9\u001b[0m \u001b[0mpg_model\u001b[0m\u001b[0;34m.\u001b[0m\u001b[0madd_model\u001b[0m\u001b[0;34m(\u001b[0m\u001b[0;34m'test_sample'\u001b[0m\u001b[0;34m,\u001b[0m \u001b[0mtrain_corpus\u001b[0m\u001b[0;34m=\u001b[0m\u001b[0mencoded_corpus\u001b[0m\u001b[0;34m,\u001b[0m \u001b[0mstate_size\u001b[0m\u001b[0;34m=\u001b[0m\u001b[0;36m2\u001b[0m\u001b[0;34m)\u001b[0m\u001b[0;34m\u001b[0m\u001b[0;34m\u001b[0m\u001b[0m\n\u001b[1;32m     10\u001b[0m \u001b[0mpg_model\u001b[0m\u001b[0;34m.\u001b[0m\u001b[0mwalk\u001b[0m\u001b[0;34m(\u001b[0m\u001b[0;34m'test_sample'\u001b[0m\u001b[0;34m,\u001b[0m \u001b[0;34m[\u001b[0m\u001b[0;36m0\u001b[0m\u001b[0;34m,\u001b[0m \u001b[0;36m1\u001b[0m\u001b[0;34m]\u001b[0m\u001b[0;34m)\u001b[0m\u001b[0;34m\u001b[0m\u001b[0;34m\u001b[0m\u001b[0m\n",
      "\u001b[0;32m<ipython-input-5-95251e6cc118>\u001b[0m in \u001b[0;36mconnect\u001b[0;34m(cls, host, port, user, password, dbname)\u001b[0m\n\u001b[1;32m     17\u001b[0m                 dbname: str = 'postgres'):\n\u001b[1;32m     18\u001b[0m         return cls(conn=psycopg2.connect(\n\u001b[0;32m---> 19\u001b[0;31m             host=host, port=port, user=user, password=password, dbname=dbname))\n\u001b[0m",
      "\u001b[0;32m~/anaconda3/lib/python3.7/site-packages/psycopg2/__init__.py\u001b[0m in \u001b[0;36mconnect\u001b[0;34m(dsn, connection_factory, cursor_factory, **kwargs)\u001b[0m\n\u001b[1;32m    125\u001b[0m \u001b[0;34m\u001b[0m\u001b[0m\n\u001b[1;32m    126\u001b[0m     \u001b[0mdsn\u001b[0m \u001b[0;34m=\u001b[0m \u001b[0m_ext\u001b[0m\u001b[0;34m.\u001b[0m\u001b[0mmake_dsn\u001b[0m\u001b[0;34m(\u001b[0m\u001b[0mdsn\u001b[0m\u001b[0;34m,\u001b[0m \u001b[0;34m**\u001b[0m\u001b[0mkwargs\u001b[0m\u001b[0;34m)\u001b[0m\u001b[0;34m\u001b[0m\u001b[0;34m\u001b[0m\u001b[0m\n\u001b[0;32m--> 127\u001b[0;31m     \u001b[0mconn\u001b[0m \u001b[0;34m=\u001b[0m \u001b[0m_connect\u001b[0m\u001b[0;34m(\u001b[0m\u001b[0mdsn\u001b[0m\u001b[0;34m,\u001b[0m \u001b[0mconnection_factory\u001b[0m\u001b[0;34m=\u001b[0m\u001b[0mconnection_factory\u001b[0m\u001b[0;34m,\u001b[0m \u001b[0;34m**\u001b[0m\u001b[0mkwasync\u001b[0m\u001b[0;34m)\u001b[0m\u001b[0;34m\u001b[0m\u001b[0;34m\u001b[0m\u001b[0m\n\u001b[0m\u001b[1;32m    128\u001b[0m     \u001b[0;32mif\u001b[0m \u001b[0mcursor_factory\u001b[0m \u001b[0;32mis\u001b[0m \u001b[0;32mnot\u001b[0m \u001b[0;32mNone\u001b[0m\u001b[0;34m:\u001b[0m\u001b[0;34m\u001b[0m\u001b[0;34m\u001b[0m\u001b[0m\n\u001b[1;32m    129\u001b[0m         \u001b[0mconn\u001b[0m\u001b[0;34m.\u001b[0m\u001b[0mcursor_factory\u001b[0m \u001b[0;34m=\u001b[0m \u001b[0mcursor_factory\u001b[0m\u001b[0;34m\u001b[0m\u001b[0;34m\u001b[0m\u001b[0m\n",
      "\u001b[0;31mOperationalError\u001b[0m: FATAL:  password authentication failed for user \"postgres\"\n"
     ]
    }
   ],
   "source": [
    "encoded_corpus = [\n",
    "    [1, 5, 6],\n",
    "    [65, 4, 1, 54],\n",
    "    [5, 65, 1, 324],\n",
    "    [3, 6, 54]\n",
    "]\n",
    "\n",
    "pg_model = ChainStorage.connect('172.17.0.2', dbname='markov')\n",
    "pg_model.add_model('test_sample', train_corpus=encoded_corpus, state_size=2)\n",
    "pg_model.walk('test_sample', [0, 1])"
   ]
  },
  {
   "cell_type": "code",
   "execution_count": 12,
   "metadata": {},
   "outputs": [
    {
     "ename": "NameError",
     "evalue": "name 'pg_model' is not defined",
     "output_type": "error",
     "traceback": [
      "\u001b[0;31m---------------------------------------------------------------------------\u001b[0m",
      "\u001b[0;31mNameError\u001b[0m                                 Traceback (most recent call last)",
      "\u001b[0;32m<ipython-input-12-079b696b2e8d>\u001b[0m in \u001b[0;36m<module>\u001b[0;34m\u001b[0m\n\u001b[0;32m----> 1\u001b[0;31m \u001b[0mpg_model\u001b[0m\u001b[0;34m.\u001b[0m\u001b[0mdelete_model\u001b[0m\u001b[0;34m(\u001b[0m\u001b[0;34m'test_sample'\u001b[0m\u001b[0;34m)\u001b[0m\u001b[0;34m\u001b[0m\u001b[0;34m\u001b[0m\u001b[0m\n\u001b[0m",
      "\u001b[0;31mNameError\u001b[0m: name 'pg_model' is not defined"
     ]
    }
   ],
   "source": [
    "pg_model.delete_model('test_sample')"
   ]
  },
  {
   "cell_type": "markdown",
   "metadata": {},
   "source": [
    "## Postgres chain usage with text processor & text encoder"
   ]
  },
  {
   "cell_type": "code",
   "execution_count": 13,
   "metadata": {},
   "outputs": [
    {
     "ename": "OperationalError",
     "evalue": "could not connect to server: Connection refused\n\tIs the server running on host \"172.17.0.3\" and accepting\n\tTCP/IP connections on port 5432?\n",
     "output_type": "error",
     "traceback": [
      "\u001b[0;31m---------------------------------------------------------------------------\u001b[0m",
      "\u001b[0;31mOperationalError\u001b[0m                          Traceback (most recent call last)",
      "\u001b[0;32m<ipython-input-13-ac06a0fccf83>\u001b[0m in \u001b[0;36m<module>\u001b[0;34m\u001b[0m\n\u001b[0;32m----> 1\u001b[0;31m \u001b[0mpg_habs\u001b[0m \u001b[0;34m=\u001b[0m \u001b[0mHabrStorage\u001b[0m\u001b[0;34m.\u001b[0m\u001b[0mconnect\u001b[0m\u001b[0;34m(\u001b[0m\u001b[0;34m'172.17.0.3'\u001b[0m\u001b[0;34m,\u001b[0m \u001b[0mdbname\u001b[0m\u001b[0;34m=\u001b[0m\u001b[0;34m'habr'\u001b[0m\u001b[0;34m)\u001b[0m\u001b[0;34m\u001b[0m\u001b[0;34m\u001b[0m\u001b[0m\n\u001b[0m\u001b[1;32m      2\u001b[0m \u001b[0;34m\u001b[0m\u001b[0m\n\u001b[1;32m      3\u001b[0m \u001b[0mtexts_list\u001b[0m \u001b[0;34m=\u001b[0m \u001b[0mlist\u001b[0m\u001b[0;34m(\u001b[0m\u001b[0mpg_habs\u001b[0m\u001b[0;34m.\u001b[0m\u001b[0mget_posts_texts\u001b[0m\u001b[0;34m(\u001b[0m\u001b[0;36m10\u001b[0m\u001b[0;34m)\u001b[0m\u001b[0;34m)\u001b[0m\u001b[0;34m\u001b[0m\u001b[0;34m\u001b[0m\u001b[0m\n\u001b[1;32m      4\u001b[0m \u001b[0mtrain_corpus\u001b[0m \u001b[0;34m=\u001b[0m \u001b[0mlist\u001b[0m\u001b[0;34m(\u001b[0m\u001b[0mTextProcessor\u001b[0m\u001b[0;34m.\u001b[0m\u001b[0mget_text_gen\u001b[0m\u001b[0;34m(\u001b[0m\u001b[0;34m[\u001b[0m\u001b[0mtexts_list\u001b[0m\u001b[0;34m,\u001b[0m\u001b[0;34m]\u001b[0m\u001b[0;34m)\u001b[0m\u001b[0;34m)\u001b[0m\u001b[0;34m\u001b[0m\u001b[0;34m\u001b[0m\u001b[0m\n\u001b[1;32m      5\u001b[0m \u001b[0;34m\u001b[0m\u001b[0m\n",
      "\u001b[0;32m<ipython-input-5-95251e6cc118>\u001b[0m in \u001b[0;36mconnect\u001b[0;34m(cls, host, port, user, password, dbname)\u001b[0m\n\u001b[1;32m     17\u001b[0m                 dbname: str = 'postgres'):\n\u001b[1;32m     18\u001b[0m         return cls(conn=psycopg2.connect(\n\u001b[0;32m---> 19\u001b[0;31m             host=host, port=port, user=user, password=password, dbname=dbname))\n\u001b[0m",
      "\u001b[0;32m~/anaconda3/lib/python3.7/site-packages/psycopg2/__init__.py\u001b[0m in \u001b[0;36mconnect\u001b[0;34m(dsn, connection_factory, cursor_factory, **kwargs)\u001b[0m\n\u001b[1;32m    125\u001b[0m \u001b[0;34m\u001b[0m\u001b[0m\n\u001b[1;32m    126\u001b[0m     \u001b[0mdsn\u001b[0m \u001b[0;34m=\u001b[0m \u001b[0m_ext\u001b[0m\u001b[0;34m.\u001b[0m\u001b[0mmake_dsn\u001b[0m\u001b[0;34m(\u001b[0m\u001b[0mdsn\u001b[0m\u001b[0;34m,\u001b[0m \u001b[0;34m**\u001b[0m\u001b[0mkwargs\u001b[0m\u001b[0;34m)\u001b[0m\u001b[0;34m\u001b[0m\u001b[0;34m\u001b[0m\u001b[0m\n\u001b[0;32m--> 127\u001b[0;31m     \u001b[0mconn\u001b[0m \u001b[0;34m=\u001b[0m \u001b[0m_connect\u001b[0m\u001b[0;34m(\u001b[0m\u001b[0mdsn\u001b[0m\u001b[0;34m,\u001b[0m \u001b[0mconnection_factory\u001b[0m\u001b[0;34m=\u001b[0m\u001b[0mconnection_factory\u001b[0m\u001b[0;34m,\u001b[0m \u001b[0;34m**\u001b[0m\u001b[0mkwasync\u001b[0m\u001b[0;34m)\u001b[0m\u001b[0;34m\u001b[0m\u001b[0;34m\u001b[0m\u001b[0m\n\u001b[0m\u001b[1;32m    128\u001b[0m     \u001b[0;32mif\u001b[0m \u001b[0mcursor_factory\u001b[0m \u001b[0;32mis\u001b[0m \u001b[0;32mnot\u001b[0m \u001b[0;32mNone\u001b[0m\u001b[0;34m:\u001b[0m\u001b[0;34m\u001b[0m\u001b[0;34m\u001b[0m\u001b[0m\n\u001b[1;32m    129\u001b[0m         \u001b[0mconn\u001b[0m\u001b[0;34m.\u001b[0m\u001b[0mcursor_factory\u001b[0m \u001b[0;34m=\u001b[0m \u001b[0mcursor_factory\u001b[0m\u001b[0;34m\u001b[0m\u001b[0;34m\u001b[0m\u001b[0m\n",
      "\u001b[0;31mOperationalError\u001b[0m: could not connect to server: Connection refused\n\tIs the server running on host \"172.17.0.3\" and accepting\n\tTCP/IP connections on port 5432?\n"
     ]
    }
   ],
   "source": [
    "pg_habs = HabrStorage.connect('172.17.0.3', dbname='habr')\n",
    "\n",
    "texts_list = list(pg_habs.get_posts_texts(10))\n",
    "train_corpus = list(TextProcessor.get_text_gen([texts_list,]))\n",
    "\n",
    "encoder = WordsEncoder()\n",
    "encoded_train_corpus = encoder.fit_encode(train_corpus)\n",
    "\n",
    "pg_model = ChainStorage.connect('172.17.0.2', dbname='markov')\n",
    "pg_model.add_model('another_test_sample', train_corpus=encoded_train_corpus, state_size=2)\n",
    "\n",
    "encoder.decode_codes_list(pg_model.walk('another_test_sample', [0, 0]))"
   ]
  },
  {
   "cell_type": "code",
   "execution_count": 14,
   "metadata": {},
   "outputs": [
    {
     "ename": "NameError",
     "evalue": "name 'pg_model' is not defined",
     "output_type": "error",
     "traceback": [
      "\u001b[0;31m---------------------------------------------------------------------------\u001b[0m",
      "\u001b[0;31mNameError\u001b[0m                                 Traceback (most recent call last)",
      "\u001b[0;32m<ipython-input-14-ac3b623bd877>\u001b[0m in \u001b[0;36m<module>\u001b[0;34m\u001b[0m\n\u001b[0;32m----> 1\u001b[0;31m \u001b[0mpg_model\u001b[0m\u001b[0;34m.\u001b[0m\u001b[0mdelete_model\u001b[0m\u001b[0;34m(\u001b[0m\u001b[0;34m'another_test_sample'\u001b[0m\u001b[0;34m)\u001b[0m\u001b[0;34m\u001b[0m\u001b[0;34m\u001b[0m\u001b[0m\n\u001b[0m",
      "\u001b[0;31mNameError\u001b[0m: name 'pg_model' is not defined"
     ]
    }
   ],
   "source": [
    "pg_model.delete_model('another_test_sample')"
   ]
  },
  {
   "cell_type": "markdown",
   "metadata": {},
   "source": [
    "# Text generator model based on encoded markov chain"
   ]
  },
  {
   "cell_type": "code",
   "execution_count": 15,
   "metadata": {},
   "outputs": [],
   "source": [
    "import re\n",
    "from typing import Iterable\n",
    "\n",
    "class TextGenerator:\n",
    "    pg_chain: ChainStorage\n",
    "    pg_encoder: EncoderStorage\n",
    "    encoder: WordsEncoder\n",
    "    model_name: str\n",
    "    state_size: int\n",
    "    use_ngrams: bool\n",
    "    ngram_size: int\n",
    "    re_process: re.Pattern = re.compile(r'[^a-zA-Zа-яА-Я ]')\n",
    "\n",
    "    def __init__(self,\n",
    "                 pg_chain: ChainStorage,\n",
    "                 pg_encoder: EncoderStorage,\n",
    "                 model_name: str,\n",
    "                 state_size: int,\n",
    "                 input_text: Iterable = None,\n",
    "                 use_ngrams: bool = False,\n",
    "                 ngram_size: int = 3):\n",
    "        self.pg_chain = pg_chain\n",
    "        self.pg_encoder = pg_encoder\n",
    "        self.model_name = model_name\n",
    "        self.state_size = state_size\n",
    "        self.use_ngrams = use_ngrams\n",
    "        self.ngram_size = ngram_size\n",
    "\n",
    "        if input_text:\n",
    "            self.train_model(input_text)\n",
    "        else:\n",
    "            self.encoder = self.pg_encoder.load_encoder(model_name)\n",
    "            \n",
    "    def train_model(self, input_text: Iterable):\n",
    "        if self.use_ngrams:\n",
    "            train_corpus = list(TextProcessor.get_ngram_gen(input_text, self.ngram_size))\n",
    "        else:\n",
    "            train_corpus = list(TextProcessor.get_text_gen(input_text))\n",
    "\n",
    "        self.encoder = WordsEncoder()\n",
    "        encoded_train_corpus = self.encoder.fit_encode(train_corpus)\n",
    "\n",
    "        self.pg_encoder.add_encoder(self.model_name, self.encoder)\n",
    "        self.pg_chain.add_model(self.model_name, encoded_train_corpus, self.state_size)\n",
    "    \n",
    "    def delete_model(self):\n",
    "        self.pg_chain.delete_model(self.model_name)\n",
    "        self.pg_encoder.delete_encoder(self.model_name)\n",
    "        \n",
    "    def ngrams_split(self, sentence: str) -> list:\n",
    "        processed_sentence = self.re_process.sub('', sentence.lower())\n",
    "        ngrams_list = [''.join(item) for item in nltk.ngrams(processed_sentence, self.ngram_size)]\n",
    "        return ngrams_list\n",
    "\n",
    "    def words_split(self, sentence: str) -> list:\n",
    "        words_list = []\n",
    "        for word in sentence.split():\n",
    "            processed_word = self.re_process.sub('', word.lower())\n",
    "            if processed_word:\n",
    "                words_list.append(processed_word)\n",
    "        return words_list\n",
    "\n",
    "    def words_join(self, words_list: list) -> str:\n",
    "        return ' '.join(words_list)\n",
    "\n",
    "    def ngrams_join(self, ngrams_list: list) -> str:\n",
    "        return ngrams_list[0][:-1] + ''.join([ngram[-1] for ngram in ngrams_list])\n",
    "\n",
    "    def make_sentence(self, init_state: list, **kwargs):\n",
    "        tries = kwargs.get('tries', 10)\n",
    "        max_words = kwargs.get('max_words', None)\n",
    "        min_words = kwargs.get('min_words', None)\n",
    "        print(init_state)\n",
    "        \n",
    "        if init_state is not None:\n",
    "            init_state = self.encoder.encode_words_list(init_state)\n",
    "            prefix = init_state\n",
    "            for word in prefix:\n",
    "                if word == self.encoder.begin_word:\n",
    "                    prefix = prefix[1:]\n",
    "                else:\n",
    "                    break\n",
    "        else:\n",
    "            prefix = []\n",
    "            \n",
    "        init_state = init_state[-self.state_size:]\n",
    "        print('prefix:', prefix)\n",
    "        print('init_state:', init_state)\n",
    "        for _ in range(tries):\n",
    "            codes_list = prefix + self.pg_chain.walk(self.model_name, init_state, 1000)\n",
    "            words_list = self.encoder.decode_codes_list(codes_list)\n",
    "            print(len(words_list))\n",
    "            if (max_words is not None and len(words_list) > max_words) or (\n",
    "                    min_words is not None and len(words_list) < min_words):\n",
    "                continue\n",
    "            if self.use_ngrams:\n",
    "                return self.ngrams_join(words_list)\n",
    "            return self.words_join(words_list)\n",
    "        return None\n",
    "\n",
    "    def make_sentence_with_start(self, input_phrase: str, **kwargs):\n",
    "        if self.use_ngrams:\n",
    "            items_list = self.ngrams_split(input_phrase)\n",
    "        else:\n",
    "            items_list = self.words_split(input_phrase)\n",
    "        items_count = len(items_list)\n",
    "\n",
    "        if items_count == self.state_size:\n",
    "            init_state = items_list\n",
    "\n",
    "        elif 0 < items_count:\n",
    "            init_state = [self.encoder.begin_word] * (self.state_size - items_count) + items_list\n",
    "        else:\n",
    "            init_state = [self.encoder.begin_word] * self.state_size\n",
    "\n",
    "        return self.make_sentence(init_state, **kwargs)\n",
    "\n",
    "    def make_sentences_for_t9(self, beginning: str, first_words_count=1, count=20) -> list:\n",
    "        phrases = set()\n",
    "        for i in range(count):\n",
    "            phrase = self.make_sentence_with_start(beginning)\n",
    "            if phrase:\n",
    "                words_list = phrase.split()\n",
    "                if len(words_list) > 1:\n",
    "                    phrases.add(\" \".join(words_list[first_words_count:]))\n",
    "        return list(phrases)\n"
   ]
  },
  {
   "cell_type": "markdown",
   "metadata": {},
   "source": [
    "# Work example"
   ]
  },
  {
   "cell_type": "code",
   "execution_count": 16,
   "metadata": {},
   "outputs": [],
   "source": [
    "def get_text_gen(\n",
    "        mongo_wiki: WikiStorage,\n",
    "        pg_habr: HabrStorage,\n",
    "        wiki_articles_count=1000,\n",
    "        habr_posts_count=1000,\n",
    "        **kwargs\n",
    "):\n",
    "    habr_posts_gen = pg_habr.get_posts_texts(\n",
    "        count=habr_posts_count, habs_list=kwargs.get('habs_list'), tags_list=kwargs.get('tags_list'))\n",
    "    wiki_articles_gen = mongo_wiki.get_articles_headings_texts(count=wiki_articles_count)\n",
    "    return (text_gen for text_gen in (habr_posts_gen, wiki_articles_gen))"
   ]
  },
  {
   "cell_type": "markdown",
   "metadata": {},
   "source": [
    "## Establish connections to dbs"
   ]
  },
  {
   "cell_type": "code",
   "execution_count": 17,
   "metadata": {},
   "outputs": [
    {
     "ename": "OperationalError",
     "evalue": "could not connect to server: Connection refused\n\tIs the server running on host \"172.17.0.3\" and accepting\n\tTCP/IP connections on port 5432?\n",
     "output_type": "error",
     "traceback": [
      "\u001b[0;31m---------------------------------------------------------------------------\u001b[0m",
      "\u001b[0;31mOperationalError\u001b[0m                          Traceback (most recent call last)",
      "\u001b[0;32m<ipython-input-17-84bcc93bd782>\u001b[0m in \u001b[0;36m<module>\u001b[0;34m\u001b[0m\n\u001b[1;32m      1\u001b[0m \u001b[0mmongo_wiki\u001b[0m \u001b[0;34m=\u001b[0m \u001b[0mWikiStorage\u001b[0m\u001b[0;34m.\u001b[0m\u001b[0mconnect\u001b[0m\u001b[0;34m(\u001b[0m\u001b[0mhost\u001b[0m\u001b[0;34m=\u001b[0m\u001b[0;34m'localhost'\u001b[0m\u001b[0;34m)\u001b[0m\u001b[0;34m\u001b[0m\u001b[0;34m\u001b[0m\u001b[0m\n\u001b[0;32m----> 2\u001b[0;31m \u001b[0mpg_habr\u001b[0m \u001b[0;34m=\u001b[0m \u001b[0mHabrStorage\u001b[0m\u001b[0;34m.\u001b[0m\u001b[0mconnect\u001b[0m\u001b[0;34m(\u001b[0m\u001b[0mhost\u001b[0m\u001b[0;34m=\u001b[0m\u001b[0;34m'172.17.0.3'\u001b[0m\u001b[0;34m,\u001b[0m \u001b[0mdbname\u001b[0m\u001b[0;34m=\u001b[0m\u001b[0;34m'habr'\u001b[0m\u001b[0;34m)\u001b[0m\u001b[0;34m\u001b[0m\u001b[0;34m\u001b[0m\u001b[0m\n\u001b[0m\u001b[1;32m      3\u001b[0m \u001b[0mpg_chain\u001b[0m \u001b[0;34m=\u001b[0m \u001b[0mChainStorage\u001b[0m\u001b[0;34m.\u001b[0m\u001b[0mconnect\u001b[0m\u001b[0;34m(\u001b[0m\u001b[0mhost\u001b[0m\u001b[0;34m=\u001b[0m\u001b[0;34m'172.17.0.2'\u001b[0m\u001b[0;34m,\u001b[0m \u001b[0mdbname\u001b[0m\u001b[0;34m=\u001b[0m\u001b[0;34m'markov'\u001b[0m\u001b[0;34m)\u001b[0m\u001b[0;34m\u001b[0m\u001b[0;34m\u001b[0m\u001b[0m\n\u001b[1;32m      4\u001b[0m \u001b[0mpg_encoder\u001b[0m \u001b[0;34m=\u001b[0m \u001b[0mEncoderStorage\u001b[0m\u001b[0;34m.\u001b[0m\u001b[0mconnect\u001b[0m\u001b[0;34m(\u001b[0m\u001b[0mhost\u001b[0m\u001b[0;34m=\u001b[0m\u001b[0;34m'172.17.0.2'\u001b[0m\u001b[0;34m,\u001b[0m \u001b[0mdbname\u001b[0m\u001b[0;34m=\u001b[0m\u001b[0;34m'markov'\u001b[0m\u001b[0;34m)\u001b[0m\u001b[0;34m\u001b[0m\u001b[0;34m\u001b[0m\u001b[0m\n",
      "\u001b[0;32m<ipython-input-5-95251e6cc118>\u001b[0m in \u001b[0;36mconnect\u001b[0;34m(cls, host, port, user, password, dbname)\u001b[0m\n\u001b[1;32m     17\u001b[0m                 dbname: str = 'postgres'):\n\u001b[1;32m     18\u001b[0m         return cls(conn=psycopg2.connect(\n\u001b[0;32m---> 19\u001b[0;31m             host=host, port=port, user=user, password=password, dbname=dbname))\n\u001b[0m",
      "\u001b[0;32m~/anaconda3/lib/python3.7/site-packages/psycopg2/__init__.py\u001b[0m in \u001b[0;36mconnect\u001b[0;34m(dsn, connection_factory, cursor_factory, **kwargs)\u001b[0m\n\u001b[1;32m    125\u001b[0m \u001b[0;34m\u001b[0m\u001b[0m\n\u001b[1;32m    126\u001b[0m     \u001b[0mdsn\u001b[0m \u001b[0;34m=\u001b[0m \u001b[0m_ext\u001b[0m\u001b[0;34m.\u001b[0m\u001b[0mmake_dsn\u001b[0m\u001b[0;34m(\u001b[0m\u001b[0mdsn\u001b[0m\u001b[0;34m,\u001b[0m \u001b[0;34m**\u001b[0m\u001b[0mkwargs\u001b[0m\u001b[0;34m)\u001b[0m\u001b[0;34m\u001b[0m\u001b[0;34m\u001b[0m\u001b[0m\n\u001b[0;32m--> 127\u001b[0;31m     \u001b[0mconn\u001b[0m \u001b[0;34m=\u001b[0m \u001b[0m_connect\u001b[0m\u001b[0;34m(\u001b[0m\u001b[0mdsn\u001b[0m\u001b[0;34m,\u001b[0m \u001b[0mconnection_factory\u001b[0m\u001b[0;34m=\u001b[0m\u001b[0mconnection_factory\u001b[0m\u001b[0;34m,\u001b[0m \u001b[0;34m**\u001b[0m\u001b[0mkwasync\u001b[0m\u001b[0;34m)\u001b[0m\u001b[0;34m\u001b[0m\u001b[0;34m\u001b[0m\u001b[0m\n\u001b[0m\u001b[1;32m    128\u001b[0m     \u001b[0;32mif\u001b[0m \u001b[0mcursor_factory\u001b[0m \u001b[0;32mis\u001b[0m \u001b[0;32mnot\u001b[0m \u001b[0;32mNone\u001b[0m\u001b[0;34m:\u001b[0m\u001b[0;34m\u001b[0m\u001b[0;34m\u001b[0m\u001b[0m\n\u001b[1;32m    129\u001b[0m         \u001b[0mconn\u001b[0m\u001b[0;34m.\u001b[0m\u001b[0mcursor_factory\u001b[0m \u001b[0;34m=\u001b[0m \u001b[0mcursor_factory\u001b[0m\u001b[0;34m\u001b[0m\u001b[0;34m\u001b[0m\u001b[0m\n",
      "\u001b[0;31mOperationalError\u001b[0m: could not connect to server: Connection refused\n\tIs the server running on host \"172.17.0.3\" and accepting\n\tTCP/IP connections on port 5432?\n"
     ]
    }
   ],
   "source": [
    "mongo_wiki = WikiStorage.connect(host='localhost')\n",
    "pg_habr = HabrStorage.connect(host='172.17.0.3', dbname='habr')\n",
    "pg_chain = ChainStorage.connect(host='172.17.0.2', dbname='markov')\n",
    "pg_encoder = EncoderStorage.connect(host='172.17.0.2', dbname='markov')"
   ]
  },
  {
   "cell_type": "markdown",
   "metadata": {},
   "source": [
    "## Train model"
   ]
  },
  {
   "cell_type": "code",
   "execution_count": 256,
   "metadata": {},
   "outputs": [
    {
     "name": "stdout",
     "output_type": "stream",
     "text": [
      "CPU times: user 5.63 s, sys: 3.57 s, total: 9.2 s\n",
      "Wall time: 25.3 s\n"
     ]
    }
   ],
   "source": [
    "%%time\n",
    "train_corpus_gen = get_text_gen(mongo_wiki=mongo_wiki,\n",
    "                                pg_habr=pg_habr,\n",
    "                                wiki_articles_count=10,\n",
    "                                habr_posts_count=6000,\n",
    "                                habs_list=['Машинное обучение', 'Математика', 'Физика'])\n",
    "model = TextGenerator(pg_chain=pg_chain,\n",
    "                      pg_encoder=pg_encoder,\n",
    "                      model_name='habr',\n",
    "                      state_size=3,\n",
    "                      input_text=train_corpus_gen)"
   ]
  },
  {
   "cell_type": "markdown",
   "metadata": {},
   "source": [
    "## Load model"
   ]
  },
  {
   "cell_type": "code",
   "execution_count": 63,
   "metadata": {},
   "outputs": [],
   "source": [
    "model = TextGenerator(pg_chain=pg_chain,\n",
    "                      pg_encoder=pg_encoder,\n",
    "                      model_name='test_model',\n",
    "                      state_size=3)"
   ]
  },
  {
   "cell_type": "code",
   "execution_count": 259,
   "metadata": {},
   "outputs": [
    {
     "data": {
      "text/plain": [
       "['',\n",
       " 'data engineering становится все более и более популярным keras за год догнал torch который разрабатывается уже лет судя по упоминаниям в научных статьях от до измерений причем выбор конкретного значения сводится к объему доступной памяти gpu',\n",
       " 'представляю вашему вниманию вторую часть статьи о поиске подозреваемых в мошениничестве на основе данных',\n",
       " 'представляю вашему вниманию перевод статьи everything you need to know about the android market how to get high rating on play store google play store eda',\n",
       " 'представляю вашему вниманию перевд статьи solving multiarmed bandits a comparison of epsilongreedy and thompson sampling',\n",
       " 'задача снижения размерности является одной из важнейших в анализе данных',\n",
       " 'сегодня мы продолжаем нашу классическую серию статей про то как автомобиль поедет в городских условиях']"
      ]
     },
     "execution_count": 259,
     "metadata": {},
     "output_type": "execute_result"
    }
   ],
   "source": [
    "model.make_sentences_for_t9('привет хабр', first_words_count=2, count=10)"
   ]
  },
  {
   "cell_type": "markdown",
   "metadata": {},
   "source": [
    "## Train model on ngrams"
   ]
  },
  {
   "cell_type": "code",
   "execution_count": 16,
   "metadata": {},
   "outputs": [
    {
     "name": "stdout",
     "output_type": "stream",
     "text": [
      "CPU times: user 2min 11s, sys: 16.5 s, total: 2min 27s\n",
      "Wall time: 5min 21s\n"
     ]
    }
   ],
   "source": [
    "%%time\n",
    "train_corpus_gen = get_text_gen(mongo_wiki=mongo_wiki,\n",
    "                                pg_habr=pg_habr,\n",
    "                                wiki_articles_count=100,\n",
    "                                habr_posts_count=7000,\n",
    "                                habs_list=['Машинное обучение', 'Математика', 'Физика'])\n",
    "ngram_model = TextGenerator(pg_chain=pg_chain,\n",
    "                            pg_encoder=pg_encoder,\n",
    "                            model_name='ngram_size3_state3',\n",
    "                            state_size=3,\n",
    "                            input_text=train_corpus_gen,\n",
    "                            use_ngrams=True,\n",
    "                            ngram_size=3)"
   ]
  },
  {
   "cell_type": "code",
   "execution_count": 88,
   "metadata": {},
   "outputs": [],
   "source": [
    "ngram_model = TextGenerator(pg_chain=pg_chain,\n",
    "                            pg_encoder=pg_encoder,\n",
    "                            model_name='ngram_size3_state3',\n",
    "                            state_size=4,\n",
    "                            use_ngrams=True,\n",
    "                            ngram_size=3)"
   ]
  },
  {
   "cell_type": "code",
   "execution_count": 48,
   "metadata": {},
   "outputs": [
    {
     "data": {
      "text/plain": [
       "['хабр']"
      ]
     },
     "execution_count": 48,
     "metadata": {},
     "output_type": "execute_result"
    }
   ],
   "source": [
    "ngram_model.make_sentences_for_t9('метод опорных векторов')"
   ]
  },
  {
   "cell_type": "code",
   "execution_count": 89,
   "metadata": {},
   "outputs": [
    {
     "name": "stdout",
     "output_type": "stream",
     "text": [
      "['кто', 'тор', 'оро', 'ров']\n",
      "prefix: [1920, 358, 738, 320]\n",
      "init_state: [1920, 358, 738, 320]\n",
      "4\n",
      "4\n",
      "4\n",
      "4\n",
      "4\n",
      "4\n",
      "4\n",
      "4\n",
      "4\n",
      "4\n"
     ]
    }
   ],
   "source": [
    "init_state = list(ngram_model.ngrams_split('метод опорных векторов'))\n",
    "ngram_model.make_sentence(init_state[-4:], min_words=len(init_state) + 1)"
   ]
  },
  {
   "cell_type": "code",
   "execution_count": 94,
   "metadata": {},
   "outputs": [
    {
     "data": {
      "text/plain": [
       "[]"
      ]
     },
     "execution_count": 94,
     "metadata": {},
     "output_type": "execute_result"
    }
   ],
   "source": [
    "ngram_model.pg_chain.walk(ngram_model.model_name, [1920, 358, 738, 320])"
   ]
  },
  {
   "cell_type": "code",
   "execution_count": 1,
   "metadata": {},
   "outputs": [
    {
     "ename": "ModuleNotFoundError",
     "evalue": "No module named 'model'",
     "output_type": "error",
     "traceback": [
      "\u001b[0;31m---------------------------------------------------------------------------\u001b[0m",
      "\u001b[0;31mModuleNotFoundError\u001b[0m                       Traceback (most recent call last)",
      "\u001b[0;32m<ipython-input-1-ea503383f751>\u001b[0m in \u001b[0;36m<module>\u001b[0;34m\u001b[0m\n\u001b[0;32m----> 1\u001b[0;31m \u001b[0;32mfrom\u001b[0m \u001b[0mmodel\u001b[0m \u001b[0;32mimport\u001b[0m \u001b[0mTextGenerator\u001b[0m\u001b[0;34m,\u001b[0m \u001b[0mPostgresStorage\u001b[0m\u001b[0;34m,\u001b[0m \u001b[0mChainStorage\u001b[0m\u001b[0;34m,\u001b[0m \u001b[0mEncoderStorage\u001b[0m\u001b[0;34m\u001b[0m\u001b[0;34m\u001b[0m\u001b[0m\n\u001b[0m",
      "\u001b[0;31mModuleNotFoundError\u001b[0m: No module named 'model'"
     ]
    }
   ],
   "source": [
    "from model import TextGenerator, PostgresStorage, ChainStorage, EncoderStorage"
   ]
  },
  {
   "cell_type": "code",
   "execution_count": 39,
   "metadata": {},
   "outputs": [],
   "source": [
    "pg = PostgresStorage.connect('vnkrtv.ru', port=15432, user='vnkrtv', password='Hardpass1337', dbname='vk')\n",
    "query = pg.exec_query(\"SELECT text from posts WHERE owner_id = '-179625476'\", [])"
   ]
  },
  {
   "cell_type": "code",
   "execution_count": 40,
   "metadata": {},
   "outputs": [
    {
     "data": {
      "text/plain": [
       "['Ты погляди какая важная краля🙈👸🏼\\nПацанчик прохавал, что к такой дамочке нужен особый подход♨️😏 Поэтому решил удивить ее необычным кальянчиком😈 Это [club132457402|Наносмок] детка😱👍🏼 Один1️⃣ покур и вуаля - телочка уже в ЗАГС зовёт💨🤩 Дело сделано😃\\n\\nКупил себе домой и пыхаешь спокойно😅 На карантине самое то😉👨🏻\\u200d⚕️ \\n\\n#калик_рекламик',\n",
       " 'Тут уважаемые пацаны из Санкт-Педымбурга записали кайфовый тречок про калик) Заценим творчество талантливых куряг😅 \\n\\nЗакачаешься, братва) Хоть на дискатеки ставь😹Танцуют все😈🎶',\n",
       " 'Шок🤯 Краля ворует у пацана душу😨\\nДа шучу😉 Паря увидел что телке стало плохо от нехватки дыма👩🏻💥 И оказал срочную кальянную помощь) Рот в рот конечно же🤣👍🏼 А ху*ли: и спас, и подкатил😀 Нормуль идея😈\\n\\nМилая сцена🥰 Счастья и здоровья молодым🤙🏼😅',\n",
       " 'Легендарный кальянчик🎖\\nПрямиком из рассказа Джоан Роулинг «Гарри Плотный и Кубок Угля»😨💨 Этот кубок получал победитель турнира трёх кальянщиков👍🏼😱 А вручал награду великий Дымблдор🤯 Одно слово - вещица знатная☝🏼♨️\\n\\nВот бы раскурить такой с Гермионой😈👱🏽\\u200d♀️А там уже и заклятие шпиликус-виликус можно применять🤙🏼😏🔞',\n",
       " 'Пустила шептуна🤣\\nПривели Дусю в самый модный ночной клуб Сургута🏙) Все пошли танцевать под Газманова 🎶😁🎉 А пока никто не видел, Дуся взяла да и навалила газку🤢😭Где это видано😡 Главное стоит и пыхтит кальдубасиной как ни в чем не бывало!\\n\\nЖесть) Такое и врагу не пожелаешь😱',\n",
       " 'Для любителей острых ощущений😈\\nКарина обычная продавщица в магазине Зара) И мало кто знает, что на самом деле она Мадам Мундштук - БДСМ госпожа🦹\\u200d♀️😱С такой дамочкой шутки плохи😅Если ее разозлить - накумарит вас своим аппаратом Флюдымгехайменом🆘💨\\nПосле такого неделю ходить не сможете😂😰🔥\\n\\nС этой красоткой шутки плохи🤣 Опасная движуха) Держимся вместе, братва👊🏼😼',\n",
       " 'Поздравим семьянина🙏\\nЭтот красавец не мог найти девушку своей мечты😳\\nПоэтому сделал ее своими руками) Уже свадебку сыграть успели, молодцы какие💖💍 Чтоб веселее было, он ещё и тестя себе смастерил💪🏼👴🏼😂 А че, такая жена никогда не запретит кальян курить и не наорет за прожжённый угольками диван💨😺👍🏼\\n\\nДаже завидно) Нашёл своё счастье🙏 Порадуемся за нашего брата по пыху😈🔥',\n",
       " 'Не пыхти - убьёт☠️\\nНастоящее дымологическое оружие✴️🤭Тайная украинская разработка «Дымач хохмач-01»😨Говорят, он забит таким мощным табачком, что даже от запаха ловишь нокаут💨Ну а нам то че) Русский кальянщик и не такую дулю скурить может🤙🏼😂\\n\\nТакой боеголовкой можно аж три Хе*росимы наколбасить😈 Учитесь пиндосы😉',\n",
       " 'Сильная духом💪🏼😱\\nОднажды Катюхе маленько не фортануло и ее переехал КАМАЗ😨 Доктора👨🏿\\u200d⚕️ говорили, что она больше никогда не сможет пыхать кальянчик🤭😭 Но краля не сдалась) Взяла волю в кулак и научилась курендосить по-новому💨👱🏻\\u200d♀️👍🏼 Друзья называют ее головоножкой😁 Проявите сочувствие🙏\\n\\nУважение бедолаге😔 Помните: если кальянщик захочет кумара, его никакой КАМАЗ не остановит😈',\n",
       " 'Кумарная олимпиада🤯\\nКальянчик знают все: от украинца😈 до попуаса🧑🏿\\u200d🦲👍🏼Любой землянин всегда рад попускать колечки с ядреного табачка💨🌏. Но  все же, какая страна лучше всех мутит миксулю🤔⁉️ Чтобы это узнать, был проведён всемирный конкурс забивочного мастерства😱\\n\\nСкорее смотри видео и узнай результат😼 Топим за Россию 🏆😍 Жгите, родные✊🏻\\n\\n#калик_рекламик',\n",
       " '-Галя, я тебя уважаю конечно, но я лежу и чую что твоя пилотка походу рыбой воняет🤢\\n-В смысле😳 Это вообще-то от новой забивки со вкусом селедки☝🏼🐟Зря купила, думала будет вкусно🙈😰\\n-Ахах, извини блин😅 Давай лучше по классике пыхать😎🤙🏼💨 Нафиг эти эксперименты)\\n\\nПравильно краля мыслит😈 Не обижайте друзей братва🙏 Они могут обидеться☺️',\n",
       " 'Рубрика «Письма читателей»😌\\n«Дорогая редакция паблика Калик) Очень нравится ваше творчество😅👍🏼. Каждую пятницу собираемся с сыновьями перед ноутбуком👩\\u200d👦\\u200d👦💻 и смотрим смешные посты, попыхивая кальджубасиком💨. Комментарии - отдельная тема) Ржем всем составом😂👏🏻🔥\\nP.S. Мужик на фотографии не мой сын, это наш сосед Миша по кличке Сисян, он майор🤯»\\n\\nСпасибо за письмо) Работаем для вас😼',\n",
       " 'АААААА БЛ*ЯЯЯЯТЬ🤬 ДА НЕ ГОРЧИ ТЫ СУ*КАА😡☠️ \\nС ума сошёл бедолага🙈 Ты зачем на калюмбас орешь🙀Если горча попёрла, то угольки поправь) Ну или вызови дымтехника - уж он разберётся че и как☝🏼😊 А кричать как дикарь не дело😅 мы же кальянщики, а не вейпососы драные🤙🏼💨\\n\\nПацана можно понять - перенервничал😌Ну ниче, на первый раз прощаем, по-братски😈',\n",
       " 'Техническое чудо💥\\nУченые Кэмбдымского университета🏛 снова удивили🙀 Создали первого в мире кальянного киборга «Шишабота»🤖😨Он анализирует человека и предлагает идеальную для него забивку😋 а ещё регулирует температуру угольков♨️🌡☄️ Идеальный помощник☝🏼\\n\\nДа уж, робот Фёдор нервно курит в сторонке🤣 Наука - лучший друг человека)',\n",
       " 'Внимание - анекдот❗️\\nСидят два кальянщика в бассейне👬🌊Один видит - дымок всплыл😳, спрашивает у второго «Ты че перд*нул?)»💨🙈А тот ему говорит «Нее, пыхнул»🤙🏼😅 Респект пацанам за такие приколы😁\\n\\nВы конечно извините за такой пошлый юмор, но очень уж смешно🤣 Уберите детей от экрана, только 18+🔞😎',\n",
       " '-Танюха, ты че делаешь?)\\n-Да пишу послание мамке😁📝👩🏻\\u200d🦱\\n-В смысле😅?\\n-Я чёто проголодалась😖 и решила написать «Мама скинь пельмени» Она с балкона увидит и сбросит мне бандероль🥟🤣📦\\n-Здравая затея) Давай уже тогда кальянчик пыхать - перед пельмешами самое то💨😼👍🏼\\n\\nБабы уже совсем очумели) Взрыв мозга внатуре🤯',\n",
       " 'Невиданная щедрость😱\\nВам наверное интересно, почему этот пацан такой довольный?) Все просто😁 В магазине [club84925998|Pitersmoke] идёт акция с обнулением цен🙈💸 Грех не выцепить кальянный набор💨 и аксессуары к ним со скидкой в 15% по промокоду «ОБНУЛЯЙ» 😈👍🏼🎁\\nТоропитесь, халява ждать не будет) Бегом на их сайт https://bit.ly/2ZB7lMm и хорошенько закупайтесь😌 \\n\\n#калик_рекламик',\n",
       " 'Гламурный мазаф*ака😈\\nЗацените цыганского стилягу) Походу это настоящий барон Дымхаузен🤴🏼🙈 Пригубил мохнатого и стоит всем кралям на загляденье🤙🏼😎👱🏻\\u200d♀️ А за кальянный тюнинг в гусарском стиле уважуха от дымной братвы👍🏼\\n\\nДа уж, не мужик а золото😅 Таких в наше время редко встретишь) Сейчас все только в клубах и айфонах сидят😫🙏',\n",
       " 'Недетские приколы😱\\nШпана совсем уже ошалела) Приехали в летний лагерь «Уголенок»🏡 и решили вызвать Пыховую даму👻🤯 Любой кальянщик знает что это запретный ритуал❌ Ну все, отдыху кап*ец) Теперь вместо медлячка с Зиной из 10 отряда👱🏻\\u200d♀️будете от призраков бегать🤣\\n\\nЗря вы так братва😅 Курите с кайфом🤙🏼💨 А об остальном не парьтесь😎',\n",
       " 'Не для слабонервных😱\\nПацанва, будьте осторожнее😳В Челябинске или в Воронеже завёлся кальянный маньяк🔪по кличке Пыхатило🆘🔞 Этот психопат не знает жалости - посмотрите сколько калюмбасов он уничтожил😭🙈😖 Оповестите своих друзей и близких🙏 \\n\\nНадеюсь органы ГосКумарКонтроля поймают этого монстра😰 Главное без паники - нужно хорошенько покумарить и успокоиться💨🤙🏼',\n",
       " '-слышь, это же ты лысый из браззерс?)\\n-ну да а че😈\\n-а расскажи по-братски, как кралю закадрить по бырому можно🙏🙈\\n-да без базара) запомни: «шоб вареник получить - бабу нужно накурить»💨😎 этот секрет мне рассказал бригадир Семёныч👴🏼, когда я на стройке работал👷🏽\\u200d♂️🚧\\n-спасибо) побегу тогда кальянчик забивать😅\\n\\nФартануло пацану встретить знаменитого Еба*ку🤣 Рабочий метод - доказано🤙🏼',\n",
       " 'Кальянное искусство😱\\nЭту невероятную картину «Томная краля жучарит кальджубас на матрасе» написал  Анатолий Пыхассов👨🏻\\u200d🎨👍🏼 Обычный мужик из глубинки🏡, а какой талант🤯Настоящий шедевр кумарного реализма с легкой примесью авангарда☝🏼 Достойная работа, браво😤👏🏻 \\n\\nМастер рисует только после шикардосного покура🤙🏼😈Иначе мысля не клеится) Уважаем такие методы🤣',\n",
       " 'Бабуля на хайпе👵🏻😎\\nСтарушенция знает, как правильно радовать внучков😂 Вместо тухлых пирожков🤢даёт малым курямбосить кальдунций😋💨 От такой бабуси стопудово уедешь накумаренный😄 «Слыш, внучек, че худой такой?) Ща накурим как следует🤙🏼😹 От девок отбоя не будет🤣»\\n\\nБабка в тренде) Ещё и забивочки на обратную дорогу даст🤩 На целый год хватит☝🏼😸',\n",
       " 'Тайна легендарного народа😱\\n\\nНедавно учёные смогли сфотографировать жителей Атлантиды🤯🤭 Оказывается, эта древняя цивилизация🧜🏻\\u200d♂️  не погибла, а спокойно живет себе в Чёрном море, недалеко от Турции🙈 А че, нормуль устроились - поставка калюмбаса налажена, кралечки бомбические🤙🏼😁💨Не жизнь, а курорт🤣\\n\\nНиштяковый положняк😅 Пусть в Крым плывут - мы всегда рады гостям) Базар вокзал😎',\n",
       " 'Неожиданная находка😅\\nПацан бродил по лесу, и вдруг бац‼️Наткнулся на таежное племя старопыхов) Странные они конечно😺Курят без пипки😱, не знают о двойном яблочке🍏🍎, держат кальянчик двумя пальцами, а не тремя🙈 Наверное забивку из барсучьего жира делают🤣🤢 Главное чтоб не сожрали, ахах)\\n\\nДа не сожрут, не ссы*те😁 Кальянчик дуют - значит мирные ребята💨🤙🏼 Айда шалить😈',\n",
       " 'Понесло мужика😹\\nВсе, Михалычу больше кальянчик не давать🙅🏻\\u200d♂️🆘 Ему хватит) Уже думает, что он шао-жмыньский боец Жан Клод Вован🥋🤣 Походу нехило накурило дядьку💨🤙🏼 Сейчас грыжа вылезет и все - фенита ля комедия, как говорится🤬😱 Так что хорош ржать и давайте поднимать бедолагу😅\\n\\nИ такое бывает, братва) Не зря есть поговорка «Спокойно пыхай - не будет лиха»☝🏼😌',\n",
       " 'Дружеский привет😁\\nНаши братишки из Сирии) Прислали письмо в редакцию Калика✉️😅👍🏼 Говорят, сейчас все нормуль: бомбежек и взрывов пока что нет🆘\\nОдним словом - кайф🙈😎 Можно покумарить с пацанами, как в старые добрые🤙🏼😈💨\\n\\nСпасибо за письмо, братва) Осторожнее - на мины не наступайте🙏😭 Мир вам мужики😼',\n",
       " 'Не все поймут) \\nСейчас молодёжь только планшетами интересуется😔\\nДавайте навернем дымку пацанва😼👍🏼',\n",
       " 'Пандемия помогает природе😳🤯\\nИз-за того что люди сидят дома, на улицу наконец-то вернулись кальянчики💨😁🙏 Этим бедным существам не давали покоя😢 Постоянно ловили и пыхали без остановки🆘😰 Заставляет задуматься...\\n\\nЦените калюмбасы, братва☝🏼😅 Без них житуха не житуха😈',\n",
       " 'Вот это доброта💟😺\\nПацан увидел у своего басика двух бездомных краль😭🧑🏻\\u200d🦳👩🏻\\u200d🦱Но он не стал прогонять лохматых заморышей😊 Наоборот - накормил и дал курнуть плотной забивки💨🥙 Всем бы такое большое сердце🙏😇\\n\\nКальянщики - самые добрые люди) Это все знают😌 Не можем мы иначе - уж извините😁',\n",
       " '-Братва, полундра! Нас затопило😱🌊 \\n-Дружбан не мороси😁👍🏼 Че с*ыкуешь то😅 Табачок промок?)\\n-Да нет, нормально все с табачеллой слава богу🙏😔\\n-Ну и все) Как говорится: не очкуем-калик дуем🤙🏼😎💨 Харош паниковать, давай лучше с нами пыхни заветного кальджубаса)\\n-Давай)\\n\\nКальянщику все ни по чем🤣 Никакое цунами не победит силу кумара☝🏼😈',\n",
       " 'Заставляет задуматься😨\\nНовый боевик «V значит Вай какой кальянчик сочный»😅 Пацан решил бороться с системой👊🏼😰Ему надоели вейпососы и коррупция🤬 Надев маску дымонимуса он начал действовать решительно🤯👍🏼 Вива ля резистанс, епт😁 \\n\\nОфигеть) Бунт бунтом, а калюмбас по расписанию🤣 Ща покумарим и пойдём вражину бить🤙🏼😈',\n",
       " 'Кажись у кошака проблемы😅\\nМохнатый совсем берега попутал) Взял и сожрал всю забивку🙈😱 Где это видано😰⁉️Ну все котяра, теперь тебя курить будем, ёпт💥🤣💨 Да ладно, угораю) Живи пока, усатый😸👍🏼 У нас ещё много табачка😊 \\n\\nОт карантина даже домашние животные с ума сходят😭 Вы там как братва, держитесь?)',\n",
       " 'Дымовенок Кузя😅\\nЕсли у вас вдруг закончились угли, он придёт на помощь👻😸 Произнесите заклинание «Кузя-дымовой, помоги нам, дорогой» и он появится🙈✨💨 Настоящее кумарное чудо😊🧙🏻\\u200d♂️! Можете оставлять ему немного забивочки - это его любимое лакомство😋🙏\\n\\nВерится с трудом😁 Хотя многие говорят, что тема рабочая😎👍🏼 Но вы там осторожнее)',\n",
       " 'Дезинфекция полным ходом🦠❌💪🏼\\nРаботницы ЖЭКа👩🏽, ТАНя👱🏻\\u200d♀️и НАТАШа👵🏻рискуя здоровьем уничтожают заразу😳😭 Целыми днями ходят и обкуривают хлоридом кальяния детские площадки👏🏻🙈 Настоящие герои не носят плащи😰 Берегите их🙏\\n\\nМолодцы, девчулечки) Правильно президент сказал - нашу страну не победить🤙🏼😼',\n",
       " 'Вштырило по-царски🤯\\nНа даче встретил соседа👨🏻😅 А он чето хмурый, грустный какой-то😢 Ну я ему намутил лекарство - пивной сироп и кальянный компресс🤣💨 Спрашиваю, ну че полегчало?) В ответ молчание - унесло соседушку походу в Кумарную реальность💯😹👍🏼\\n\\nВ такие деньки калик самое то) Выручает как надо😃',\n",
       " 'Дамочка ты че вытворяешь🤬\\nПацан привёл домой кралю) Забил калюмбасик 💨🤙🏼 и пошёл на кухню бутеры мутить🥪😋👍🏼  Когда вернулся увидел эту сцену😱🆘 Девка говорит: «Чета ж*опа зудеть начала😖 я об твой турничок почесалась)» Такого мощного пенделя дуре отвесил, что весь дом слышал🤣\\n\\nПравильно сделал😈 С такими только так и надо💪🏼😼',\n",
       " 'Немного поэзии на ночь глядя😃🌌\\nСтихотворение «Необычный фрукт»😊\\n\\nЭто что ещё за фрукт?\\nЯблоко🍅? Банан🍌? Грейпфрукт🍈⁉️\\nНет ребята👨🏽👨🏻\\u200d🦰, ни*фига😈\\nЭто же стоит кальян😁💨\\nКалюмбасик-ананасик🏵\\nЗамути скорей напасик😋👍🏼\\nЗатянись дымком отменным🙏🌬\\nПокумаришь обалденно🤙🏼🤣',\n",
       " 'Деньги в кармане \\nЖена на диване\\nСын на борьбе \\nЖитуха по кайфу)',\n",
       " 'Вот это банда😃\\n5 всадников Кумаропокалипсиса😱👻 Шучу, не ссы*те😼 Это же наши старые добрые друзья: Лаймик🍋, Арбузяка🍉, Размазня, Шпала и Апельсиндио😈🍊Ушатают любого👍🏼 Силой убойного дымка конечно же😹💨 \\n\\nНаш отряд - Угли в ряд😁☄️ Наш девиз - накуризз🤙🏼🤣 Зажигай пацанва😸',\n",
       " 'История игрушек 5: «Недетская накурка»🤩\\nВуди надоело быть беспонтовым шерифом-мусоридзе🤠Теперь он кальянщик🤙🏼💨 От забивки там уже не дикий запад☀️- а дикий запах🤣🙈 Давай братков зови) Че один то кумаришь👊🏼😼👬\\n\\nПо лицу видно- доволен чертяка😏 Неровен час какую-нибудь куколку склеит👩🏻🔞 В прямом смысле😂',\n",
       " 'Ну все, началось😭\\nИз-за карантина😷☠️ уже и не покуришь нормально😨 Кальянщик теперь сам дымчу тебе выдувает - дистанционно🤬💨А ты уж лови ее как хочешь, калюмбасик то в руки не возьмёшь😾🆘Ну и как тут накумариться🙈\\n\\nОщущение тёплого мундштука в руке - главное условие успешного покурчика😃👍🏼 Ну ниче) Не киснем, братва🤙🏼😈',\n",
       " 'Настоящий ценитель😊🔥\\nЛетите пипки🙈 вы свободны🤣👍🏼 Пацанчик в курсах, что эти малыши сейчас в дефиците) Вон сколько себе отхапал - хитрюга😎😺Курить кальянчик без родимой пипочки опасная затея💨😳❌\\n\\nА сколько пипчулек в вашей коллекции?) Некоторые кальянщики им даже имена дают😂 Заботливые🤙🏼🥰💖',\n",
       " '-ну че пацаны: кто первый кумарит🤔👨\\u200d👨\\u200d👦\\u200d👦?\\n-о, давайте сыграем в игру «у кого бита тот и курит первый»🤗 Слава, у тебя есть бита🏏?\\n-нету брат😭\\n-а у тебя, Вован?\\n-тоже нету😖 забыл взять😰\\n-ну че сказать) не подфартило😃 походу я сегодня открываю пыхательную эстафету🤣💨\\n\\nСмекалистый парниша😂 Знает как и что😎👍🏼\\nКальян вырубит похлеще любой биты🤙🏼😈 Доказано😼',\n",
       " '-я не понял, вы что делаете😡😟\\n-ой извините за беспокойство😅🙏 просто за соседним столиком чай не допили😔 я решил вам его перелить😇 Как говорится: чтоб добро зря не пропадало☝🏼😺\\n-ну даёте) профессионал - сразу видно😀 раз такое дело пошло, то кальянчик новый намутите в придачу к чаёчку☕️💨🤙🏼\\n-сию же минуту🧑🏼\\u200d🍳☺️\\n\\nОбслужили по первому разряду😈👍🏼 Всем бы так🥺',\n",
       " 'Братишки, тут мысля одна надумалась😎\\nВсе знают, что кальян - это приятно и полезно😊💨, но пыханье можно сделать ещё лучше🙀\\nПросто подпишитесь на замечательный паблик [club82267971|Книга животных] и узнавайте невероятные факты о дикой природе, выдувая дымчу☝🏼🦁',\n",
       " 'Не мужик, а сказка🤩\\nДжентельмен из посёлка Ядрючие Дымки😅Дрова нарубил\\U0001fa93🌲самогончик прогнал, по стакашечкам разлил😌🍸 А для идеального свидания наш ловелас намутил реальную диковинку - калюмбасик💨👍🏼 Такому теперь и Наташа Королева даст, не то что доярки местные🤣😏\\n\\nРусский значит накумаренный🤙🏼😈 Деревня на связи😼',\n",
       " 'Анимешникам понравится😅\\nУчастник организации Альфакерцуки отдыхает перед боем и потягивает кальджубасинку🍃😌 С ним шутки плохи🙈 Может применить технику чёрного дымка Кумаротерасу😱🆘 или призвать демона Мундштукохвостого Лиса🙅🏻\\u200d♂️🤯🦊 Лучше его не злить)\\n\\nМы не против японской культуры👍🏼 Кальянщики всех уважают и ценят родных😸🙏',\n",
       " 'Неожиданный прикол😱\\nДумаете, что на этом фото никого нет?) Ошибаетесь! Вы че, не заметили Пыхтуна-Невидимку😹👓? Вот же он сидит, засра*нец этакий🙈 Кумарит себе а люди пугаются😭😨 Ну ладно, прощаем бедолагу) Его и так за полтергея считают или как его там😅\\n\\nДа уж, не фортануло мужику таким уродиться) Ну зато за кралями может подглядывать😈😏',\n",
       " 'Кальянщики, без паники🙏😉\\nВирус нас не тронет🦠❌ Знающий человек сказал: все будет чики-пуки🤙🏼😈 А если вдруг заразились - бегом в кальянную и выкуриваем болячку ядреным дымком💨😎💥 Способ рабочий, доказано врачами🧑🏼\\u200d🔬👨🏻\\u200d⚕️ Кто всё-таки боится - переходите на дистанционный покур)\\n\\nПрорвёмся, братва😼 Главное с вейпососами не здоровайтесь👎🏼🤢 Заразят😨🤬',\n",
       " '-господин Гав Гавкович🐶 вот ваш кальянчик с забивочкой из чёрной игры и щепоткой педигри как вы и просили💨😊 Что-нибудь ещё?)\\n-да) угольки мне поменяйте👍🏼 и за ухом почешите, будьте добры😎\\U0001f9bb🏻\\n-все как вы скажете, ой то есть слаете🤣🙏\\n\\nНу уж правда - собачий депутат🤵🏻Остановите эту планету, я сойду😅🤦🏻',\n",
       " '-Женек что с рукой🤭\\n-Да сломал блин😅\\n-А как так-то😱⁉️\\n-Колечко дымное пытался пустить😄💨⭕️ Ну и не рассчитал чето🤕🧑🏻\\u200d\\U0001f9bd\\n-Фига ты учудил😳 Этот сложный фокус могут делать только избранные кальянщики☝🏼😈\\n-Ты прав) Главное что жив остался😃👍🏼\\n\\nБратва, когда делаете кальянные трюки будьте осторожнее😺 Не рискуйте🙏🥺',\n",
       " 'История до слез😢\\nПаренёк по кличке Ваня-Полторашка зашёл в кальянную😖 Над коротышкой все начали смеяться😂 и говорить, что забивки с растишкой в ассортименте нет😭🙅🏻\\u200d♂️\\nТолько кальянщик не стал издеваться и дал чепиндрительного кальяна😇💨 Лайк за доброту😉👍🏼\\n\\nПацаны помните - нужно заботиться о братьях наших меньших🙏 Иначе никак😈',\n",
       " 'Спиногрызы кайфуют😂\\nТрём братьям Тимуру, Ашоту и Игорю нормальные такие подарочки на Новый год подогнали🧑🏽🤩 Вместо дебильной playстейшн и айфона🤢 родители подарили им новенькие калюмбасы🤙🏼😼Молодцы) Нах*рен нужен этот айфон📱😡 С него даже колечек нормальных выдуть нельзя😤💨⭕️\\n\\nСпасибо подписчику за эту мудрость🙏 Подфартило малявкам😳👍🏼 Братва, а у вас какие подарки?)',\n",
       " 'Культовая сага🤯\\nНаконец-то‼️ Продолжение легендарного фильма «Гарри Плотный и Кубок Угля» уже на экранах👏🏻🤩 По сюжету, Дыментор решил спи*здить у Тамары калюмбас😱 Но краля не растерялась) Сколдовала Экспыхто Кумарус и прогнала чертилу🤙🏼💨😈 Волшебный рождественский фильм🎅🏼🎄 \\n\\nТакое кино ничем не уступает советскому☝🏼Смотрите всей семьей) Не пожалеете, Братва😏',\n",
       " 'Семейная драма😳\\nОт мужика ушла жена и забрала с собой сына😱 Но он не пал духом - взял и забацал нового спиногрыза, прямо из кальяна👶🏽😈👍🏼 Такой сынуля и в штаны не наср*ет и двойку в школе не получит🙈📚Его даже на карате отдавать не надо - сам всех забивочкой вырубит🤙🏼😂🥋 От души😎\\n\\nПапа Карло по русски, ниче не скажешь) Замутил настоящего Пыхноккио😅 Счастья ему🙏',\n",
       " '✨Новогоднее поздравление✨\\nГоворят, что этот год был сложным) Ну не знаю, у нас тут все по кайфу😂👍🏼 Угораем ровно и пыхтим как надо🤙🏼💨😎 Братва, спасибо за такую тёплую и душевную атмосферу в паблике Калик) Желаю в 2021 году краль посочней👱🏼\\u200d♀️ и забивки поплотней😈🌟\\n\\nРодные, счастливого вам Нового года🎄🎁😼 И всегда помните нашу главную поговорку - мирного пыха и четкого жмыха😉',\n",
       " 'Тонкости ухода за кралей😊\\nИдеальный пример заботы о домашней кралечке😺👍🏼 Выделите ей место на балконе и подстелите махровое полотенце) Кормите ее только семушками пшеницы и ягодами🌽🍓, чтоб не разжирела🤣 Ну и самое важное - ежедневные кальянные процедуры, а то эта дура👱🏻\\u200d♀️ без забивочки очуметь может🤯🙈\\n\\nХорошие советы) Помните, мужики - тут главное осторожность😄 Всем добра🤙🏼',\n",
       " 'Решила уединиться на пляже🌅☀️\\nА че ещё нужно для счастья просто русской бабе?) Пляж, песок и [club132457402|наносмок]  🤣💨 Замутила накурочку от такой вундервафли😸 и унеслась на волне кумара👱🏽\\u200d♀️👍🏼 Кальянный сёрфинг, ёпт)\\n\\nЧикса явно знает толк в калюмбасах😁 Берите пример - покупайте наносмок братва🤩\\n\\n#калик_рекламик',\n",
       " 'Героический поступок😎\\nШхуна напоролась на айсберг😱 Не сс*ыте, господа) Вам повезло - на борту оказался капитан Пухлый👨🏻\\u200d✈️👍🏼 Взял штурвал и припарковался как надо🤣 Никакая льдина не помешает ему провести с кралей отпуск в Геленджике💖👱🏻\\u200d♀️☀️ А на берегу уже и кальянчик поджидает💨😈 Красавчик👏🏻\\n\\nЖесть) Это вам не вафлежуй Джек из Титаника🙈👎🏼Хорошего отпуска братишка☺️',\n",
       " 'Настоящее мужество🤯\\nПодвиг молодых кальянчиков партизанов✊🏻😭🔥В 2014 году они, жертвуя собой, заградили дорогу поезду с украинскими солдатами вейп-войск🤢👎🏼Эти мрази ехали на Донбасс уничтожать угольковые шахты💥🙈😫Но смелость калюмбасов помешала их планам😈🤙🏼💨 Выкусите, жижаеды😂\\n\\nНе забудем наших героев🙏 В честь таких нужно оформить памятный кумар) Лютые ребята😎',\n",
       " 'Звёздные войны отдыхают😱\\nНаш старый друг Пыхтынбек Кальянзабитов походу совсем очумел😭😳 Перебрал дымочка и познал тёмную сторону кумара🤙🏼💨☯️ Стал злым лордом-жмыкхом и душит всех силой мысли✋🏻🥵Ну ниче, щас позовём магистра Йо*пту - он ему мигом пистонов навставляет🔥👊🏼😎\\n\\nДавай без выкрутасов😂 Все свои, братан) Ты лучше успокойся а там уже и побазарим🙏👍🏼',\n",
       " 'Обман зрения👀\\nДумаете, что это старик?) На самом деле этому пацану всего 16 лет😱Он просто курнул слишком ядреного калюмбасика - вот его и скукожило🤙🏼💨 \\nА ведь ему говорили: «Коля, не мути жёсткую забивулю, а то худо будет😫🙏» Зря старших не слушал, дурачина🤬🤣🤦🏻\\u200d♂️Давай откисай, малой)\\n\\nВсыпать ему ремня отцовского, чтоб поумнел💪🏼👨🏻 Зелёный ещё парнишка) Еще не понимает опасность перепыха😸🙈‼️',\n",
       " 'Пацаны рвутся в шоу-бизнес🤩\\nСерый и Шкля👬 решили замутить кастинг на своё новое шоу) Назвали его «Сэ*ксуальные кралечки жмыхают кальдунцию💨 с Серым и Шклёй, а потом показывают им груди»😈👉🏻👌🏼Хитрые засранцы) Правда, пока ни одна телка на кастинг не пришла😭А зря, поляна-то знатная накрыта😋👍🏼 \\n\\nРейтинги такому шоу обеспечены) Осталось позвать Ларису Пыхдееву👵🏽 ведущей и пускайте по первому каналу🙏📺 Дамочки, не упускайте свой шанс🤣',\n",
       " 'Модные бездомные👍🏼\\nНифига себе времена настали🙈😸 Вы только посмотрите на этих бомжей🤯Раньше они просили мелочи на чекушку водки или фанфурики🤢💀А сейчас уже на табачок и угольки🤙🏼😎🔥Таким стилягам не грех милостыньку подкинуть) Пускай дуют кальянчик на здоровье😊💨  \\n\\nА говорят народ беднеет) От таких бродяг не ссаками, а двойным яблочком несёт😹 Молодцы😄',\n",
       " 'Эу, дымные) Тут подгон для вас оформили☝🏼😎\\nХотели обновить чехол на мобилу? Тогда руки в брюки и бегом в магазин ‼️CASEMENT‼️Там акция невиданной щедрости: пишите им в Директ «KALIK» и получаете 250 руб. скидки💸или доставку за счёт заведения😳💥Вы только зацените, какие шедевры в Калик) стиле там есть😱🌟🤩 Красота😻\\n\\nЗакупаемся чехлами📱 по ссылке: https://www.instagram.com/casement.su/\\n#калик_рекламик',\n",
       " 'Тихая охота😃\\nЛесник👨🏾\\u200d🦰 набрел на поросль настоящих лесных кальянчиков💨🌳 Рвать нельзя☝🏼⛔️🙅🏻\\u200d♂️Пока они растут, их лучше не пыхать🙈☺️ Обождите - через пару недель эти малютки превратятся в опупенные сочные кальджубасы🔥🤙🏼😅 Главное не спутайте их с лжекальянами - муховейпами и бледными парилками🥵🤢 Так ведь и помереть можно🤯\\n\\nСпасибо матушке природе за ее щедрые дары) Без них мы бы не выжили😼👍🏼Осень порадовала😈',\n",
       " '🆘Страшилка на Хэллуин🤯\\nГоворят, в деревне сельского типа Простожмыхино завёлся Безумный Джек с тыквой🎃😱 Страшно?) Не верьте этим слухам🔥😹🗣 На самом деле там живет Спокойный Женя) Позитивный мужик и отменный кальянщик🤙🏼💨 Из тыквы он делает свой коронный микс «Tikva-XXL»💥и ещё вырезает из неё свистульки😃 Талант)\\n\\nЖесть)Походу этот миф придумали жижабл*яди, чтобы оклеветать Женька🤬 2020, остановись🙏',\n",
       " 'Блатная любовь💞\\nМишаня молодца) Только откинулся с отсидки⛓ а уже радует свою ждулю дымной амврозией💨👰🏻 Главное, чтоб кальянчик был не со вкусом тюремной баланды🙏😂🙈 А то краля не оценит внатуре😳👎🏼Мир вашему дому, молодые)\\n\\nКрасавчик😎 Не зря его на зоне Ловеласом звали, погоняло в тему) Только с пилоткой аккуратнее, а то не по понятиям выйти может😅',\n",
       " '‼️Официальное послание‼️\\nПослушай, Кучеряш) Давай без чепухи😉Ты пацан вроде неглупый, так что порешаем на мирном👊🏼😼🙏Про калюмбасик так писать не надо) Лучше жахнем дымоглобинчика как в старые добрые💨 Обсудим твои любимые велоэтажки и многодорожки😅🚴🏻\\u200d♂️До связи🤙🏼\\n\\nИлюха, аккуратнее😂 За такое  и мундштуком по лбу неровен час получить😈🙈 Всем мирного пыха и чёткого жмыха, братва😊',\n",
       " '-Слышь родной) дай калюмбаса пригубить🙏\\n-Эу, ты кто такой вообще🤯😱\\n-Да не ссы) Это же я, Спайдым-мен☝🏼Однажды какой-то жучара🤬 намутил мне такой дындрический калик, что я аж на потолок запрыгнул 🤙🏼😅 И вот стал героем🦸🏼\\u200d♂️\\n-Понял) Базара ноль😈 Давай кумарить💨\\n______________________\\nСпасибо подписчику за редкое фото👍🏼 Запомните пацаны: «Чем сильнее забивка - тем дольше ты в отрубе»👊🏼😎',\n",
       " 'Программисты шалят🤙🏼😈\\nА че, айтишники тоже непрочь календулу с кралями раздуть) Вы не думайте, что это задроты😂 🧑🏻\\u200d🏫Они такую забивку намешают, что любая красотка офигеет😳💨👄 Им только повод дай) А там уж и «Питона» своего покажут, да «СиСи++», если вы понимаете о чем я🤣👍🏼🔞\\n\\nКальянчик всех радует: и качков, и очкариков) Главное дуть с кайфом пацаны☝🏼И неважно, какой ты национальности😊',\n",
       " 'Анонимность раскрыта😱\\n‼️Фотографу удалось запечатлеть легендарного уличного художника Жмыхси📸😳 Он только что закончил свой очередной шедевр и уселся дымошпундить кальянчик😋🤙🏼💨Отдыхай братишка, заслужил) Сам автор говорит, что этой картиной он поддержал малочисленное движение коммунистов-иудеев🙏🇮🇱 Респект за смелость👍🏼\\n\\nНу мужик замудрил конечно) Хотя от крепкого табачка и не такое нарисуешь🤣 Уж мы то знаем😎',\n",
       " 'Романтический ужин🥰\\nПацан запарился и приготовил своей любимой сюрприз👱🏻\\u200d♀️🎉 Роскошный вид на Калугу🏙, нарезанный пармезан🧀 и кальянчик с забивкой из лепестков роз😻🌷💨 По бокалам разлил жидкость из колбы - идеальный напиток для любовных бесед❤️👩\\u200d❤️\\u200d👨 Краля оценит😏\\n\\nМалодчик) А ведь еще в 2010 году доказали пользу колбяного экстракта☝🏼😎 От всех болячек исцелит и кайфулю обеспечит😈',\n",
       " 'Научное потрясение😳\\nПацаны, походу люди внатуре от обезьян произошли🙈🤯😨Вы только зацените как смачно пыхтит этот чумпанзе💨🤣Прям натуральный кальянщик) Ученые👨🏻\\u200d🔬сразу захотели забрать на опыты эту гениальную макаку🙀А вот х*уй вам, очконавты😅Теперь это наш кент, никому в обиду не дадим👊🏼😎\\n\\nВот тебе и недостающее звено) Забейте этому чёткому примату двойного банана😈🍌🔥',\n",
       " 'Развлечение для взрослых😏\\nЗабивкины и Дымоходовы дружат уже много лет и захотели разнообразить отношения😁👍🏼 Решили провести «свингер-пати», то есть партнёрами поменяться👄😳🙈 Но походу чёто где-то напутали🤣 Мужики, давайте без этих молодёжных приколов - лучше кальянчик дуйте🤙🏼💨\\n\\nДа уж, в странное время живем😹То свингеры, то кабанеры - чего только люди не выдумают)',\n",
       " 'Ну прям Аладдин🤣\\nВы только гляньте) Это уже не Вован - это арабский шейх Абу Ибн Вованули😁👳🏼\\u200d♀️ Принц Саратовской Аравии🤴🏼😂🌃 Теперь все шиномонтажки и кальянные принадлежат ему😱👍🏼 Поднялся парень, нечего сказать😎\\n\\nПацану конечно фартануло) Главное о братве не забывать😼 Помните - гаремы с кралями не заменят кумарных посиделок с друганами☝🏼😤',\n",
       " 'Косолапый в конкретной отрубе😅\\nНормально так прижучило мишутку от калюмбаса🐻👍🏼 Аж на стену полез, бедолага💨🙀🤣 Походу пыхнул фирменной ядерной забивули из таежных🌲алтайских трав💥😳 Мэйд ин Раша пацаны) От неё любой бычара уходит в кумарный нокаут🤙🏼😎\\n\\nНи одно животное не пострадало) Берегите окружающую среду братва🙏🥺',\n",
       " '-че братан, как рыбалка🎣🐟🌊?\\n-да вообще четко😼👍🏼\\n-так ты же ниче не поймал😓 походу дымом от кальянчика всю рыбу распугал💨😹\\n-ошибаешься, братишка) я ща словил опупенскую кайфулю🤙🏼😃 это намного лучше, чем рак или щука😁\\n-даже не поспоришь) хороший ты человек😊\\n\\nУдивил так удивил) Век живи - век учись☝🏼😼',\n",
       " 'Русские витязи🇱🇺🤩\\n«Бойся, глупенький пиндос! Это русский Калямбос!»👊🏼😎 Наконец-то стали делать патриотичные кальянчики😃👍🏼Такой не стыдно показать внукам💨😤 👨\\u200d👨\\u200d👦\\u200d👦 Монголы, французы, немцы⚔️ - все пали от нашей кумарной силушки💥🤙🏼 Кто следующий😁\\n\\nПацаны, цените такие моменты😌🙏',\n",
       " 'Вот ведь жучара🤣\\nПацана оставили охранять кальянчики🤙🏼 пока остальные пошли в лес за родниковой водой💦 Когда вернулись увидели эту картину😅👏🏻 Называется всосал не по детски😹💨 Решил в одно рыло забивулю захомячить❌🐭\\n\\nАй-яй-яййй) От таких бычьих доз дымоглобина можно и перепых словить😨 Тогда уж поминай как звали😳🙏',\n",
       " 'Уроки пикапа от Вовы Кумара😁\\nЭу, мадымуазель) Че одна гуляешь, айда ко мне на лавку😈 Местечко для тебя уже согрето бэйба 👍🏼♨️ Давай не томи - кальянчик ждать не будет💨😏 Краля ты знатная👌🏼🥰👱🏻\\u200d♀️Колечки - тебе🌬⭕️\\n\\nВован хер*ни не посоветует) Берите пример с дымного бродяги🤙🏼😎',\n",
       " 'Краля встала на путь криминала😰\\nНе выдержала дымоглобиновой ломки на самоизоляции😥😱 Решила грабануть кальянную😳 «Живо мути зачетный калюмбас на молочке или я стреляю🤬🤯» Ну кальянщик ей снотворного в забивку подмешал - вроде успокоилась😃👍🏼💨\\n\\nДа уж, бедное существо😖 В следующий раз ко мне беги - помогу чем смогу🤙🏼😈',\n",
       " '-о пухлый здорова😃 че на стадионе сидишь?)\\n-да вот решил спортом заняться😊🏂\\n-так ты же кальян просто куришь😅💨 \\n-в смысле «просто курю»😡? Я дыхалку тренирую☝🏼😈 Вдох-выдох вдох-выдох😁👍🏼\\n-чёткая у тебя программа🤣\\n-ну а че😼\\n\\nРешил накумариться к лету🤙🏼😎  Сегодня дыхание, завтра спортивная ходьба до кальянной💪🏼😆 Нормулёк😀',\n",
       " 'Русский Халк💪🏼🧑🏻\\nПацан конечно жесткий) Взял и намутил забивку из радиоактивного табачка🤣Да ещё и воды в колбу набрал из речки Припяти💧😳☢️ Вот уж действительно - ядерный кальянчик👨🏽\\u200d🔬🙈 Походу из такого калюмбасика дым идёт в форме гриба💨😁Нормульный покур обеспечен😺\\n\\nКрасава, братишка) Только осторожнее, а то можно мутировать и пис*юн на башке вырастет🤥🔞 Не нужно так рисковать🤦🏻\\u200d♂️',\n",
       " 'Рубрика интересные факты🤓\\nНаш подписчик каким-то чудом нашёл эту потрясающую гравюру😱🖼 На ней изображено как великий русский учёный Михайло Ломожмыхов изобретает кальянчик👨🏻\\u200d🔬💨😼Тут он проводит опыты с бульканьем) Хорошо, что теперь есть колбы, а то с ж*опы дуть вообще не кайф ахах😂🙈\\n\\nДа уж, вот ведь были времена) Очень важно знать историю родного кальяна братва☝🏼 Не робейте😈',\n",
       " 'Братва, вот и развлекуха на вечер🔥\\nКонкурс кальянщиков 🤙🏼Rap Hookah Battle 😺 Это мировое событие происходит раз в сто лет💯‼ Ещё наши дедушки👨🏼\\u200d🦳❤следили за этим состязанием☝🏼Кальянщики будут мутить свои дымные шедевры и исполнять песни - так что скучно не будет😁🎶🎵\\n\\nНе пропустите👊🏼😼Подключайтесь к трансляции этого кумарного праздника и кайфуйте🎉😎✨\\n#калик_рекламик',\n",
       " 'Новости политики💥\\nПацану не давали спокойно кумардосить ароматную дымулю😨🤬Поэтому он решил основать своё государство - Кальянию☝🏼👱🏼\\u200d♂️Малодчик, х*ули🤣 Установил там либердымианство и живет себе с кайфом💨😅Главное правило - дуй календулы сколько хочешь) Для краль вход бесплатный😈Налог взимается в виде дымных колечек😎👍🏼\\n\\nНастоящий остров мечты😳 Идеальное место для отпуска с братвой)',\n",
       " 'Кальянщики, новость для вас😸\\nУ тебя чешутся руки оформить забивулю⁉️Хочешь порадовать окружающих своим фирменным убойным миксом🙈😋? Тогда не сиди на месте😎Платформа Hookah Head Hunt - идеальный вариант для поиска работы в кумаропыхательной сфере🤯👨🏻\\u200d💻\\n\\nПереходи по ссылке, находи работу и развивай свои навыки дымного маэстро😄👍🏼\\nhttps://clck.ru/R9th8 \\n\\n#калик_рекламик',\n",
       " 'Дымит самурай-\\n«Ух как вставило-то б*ля»\\nЖесткий табачок\\n\\nЛегендарная японская поэзия - белый стих хукка☝🏼😳 Молодцы, косоглазые) Чтут и уважают «пыхдзюцу» - древнее искусство кумара🙏😊💨 Бывает иногда кишки себе режут, но это норма😨Традиция такая, че поделать😂 Уважение пацанам￼😼👍🏼',\n",
       " 'Работа маэстро😱\\nА ну-ка цыц🤫Не отвлекать Гошана) Он учуял в забивке сущность в виде гномика😨‼️ Только не сс*ыте, он бывалый кальянщик - знает как изгнать и гномика и го*мика🤣👍🏼 Так что расслабуха, сегодня никакой порчи на горчение😉 Пыхайте на здоровье🤙🏼💨\\n\\nНастоящий профи) Знает тайны кумарного чародымства✨На таких можно положиться☝🏼',\n",
       " '-брат ты че засел тут?)\\n-блин да у меня походу глисты👾 завелись😭\\n-так а нафига ты кальян дуешь в толкане😳?\\n-ну мне доктор сказал👨🏽\\u200d⚕️что если я знатно покурямбоськаю кальянчик, то глиста мигом выкурится💨👍🏼 \\n-нормууль) а ну-ка дай я тоже подлечусь на всякий случай🤣🙏\\n\\nПацаны угорают конкретно😸 За такие идеи нужно медали давать🥇😈',\n",
       " 'Новый флешмоб😱\\n\\nДвижение #KalikLivesMatter набирает обороты🙏 Крали встают на колено перед кальянчиками в знак уважения👱🏿\\u200d♀️💨 Долгие годы люди относились к калюмбасам жестоко: разбивали колбы, теряли пипки, мутили фуфлыжную забивку🤯😭 Наконец-то они одумались и признали вину😥 \\n\\nБратва, защищайте свои кальяны😈 Кто если не мы🤙🏼',\n",
       " 'Молитва пацана🙏\\nБоженька, слышишь меня?) спасибо тебе за этот табуретный пикничок и сочнейший кальянчик 🤙🏼💨Дай здоровья всем моим друзьям👨\\u200d👨\\u200d👦, но Серому👨🏻 можешь не давать пока он мне сотку не вернёт, ахах шучу😅\\n\\nДа уж, за такое и правда нужно помолиться🙈 Молодцом держится пацанчик😊 Респект👍🏼',\n",
       " 'Какое-то чудо😨\\nРодимое пятно в форме кальянчика🤯 Это не просто родинка, это знак свыше😳🙈 Такие люди рождаются раз в пятнадцать лет) Говорят, они помечены древним ацтекским богом кумара Пыхтокоатлем😅✨💨\\n\\nПипец) Даже не верится😄 Пацана явно ждут великие дела🤙🏼 😎Надеюсь он изобретет вакцину против вейпинга🙏',\n",
       " '-Мить, а ты че свою таратульку в кальянную загнал😡 на улицу выставь🤬😊\\n-Это не таратулька - это мой железный конь😎 Ему не место на улице☝🏼☺️\\n-Ахах) Это не конь, а ослик какой-то🤣😂 Завязывай фигню пороть - кальянчик куряндосить будем💨🤙🏼🙈\\n-Лады)\\n\\nДруганы на мирном порешали👍🏼👬 Пацанва, не паркуйтесь в кальянных🙏😰',\n",
       " 'Матёрый садовник😃👨🏻\\u200d🌾\\nТише) Не отвлекайте Серого🙏😁 Он обрабатывает огород кальянным дымом, чтоб уничтожить всех вредителей😺🌿🌱Всем известно, что колорадский жук боится ароматного дымка как огня💨🐜🚫 А картофель после такого созревает просто бомбический😈😱\\n\\nМолодца, братюня) А вы подумали он в крысу дует🤨? Не судите людей заранее братва😊',\n",
       " 'Требуем реформу образования😅🙏\\nПетров, ты почему не кумаришь😼? Щас двойку поставлю😡😖\\nСтавь лайк если был бы отличником по этому предмету☝🏼🤓',\n",
       " 'Знай наших пацанов😅👍🏼\\nТаким - только респект)',\n",
       " '-Тоха ты че натворил😱\\n-Не понял😕 Че я сделал?)\\n-Как че? Мы приехали на пикник, нашли отличную лужайку 🌳☘️ Но ты начал курить и теперь это безжизненная пустошь😭😨☠️\\n-Ахах) Это походу моя новая забивочка слишком ядерной оказалась🤣👍🏼 У меня дома все фикусы из-за неё завяли😺🌵\\n-Ну ты даёшь😁 Отжигаешь как всегда😆\\n\\nПацаны, природу нужно беречь🙏💨 Не мутите чересчур дикую забивулю😼',\n",
       " 'Общественный кальян😀🏙\\nОчень удобно👍🏼 Идёте вы такие, заскучали малясь и обана - кальбесяндра стоит💨😁 Кури не хочу😸Прямо как советские автоматы с газировкой😊🍺 Комфортная городская среда☝🏼🧑🏻\\u200d🦱\\n\\nНаконец-то в России начали заботиться о нас, простых работягах😼🔧  Нам для счастья много не надо: поработал - покумарил🤙🏼',\n",
       " 'С праздником, друзья😇\\nПоздравляем всех подписчиков с 7️⃣5️⃣ летием победы‼️Знатно мы дали прикурить фрицам, ниче не скажешь🙏😼👍🏼 В связи с такой датой проводится акция «Дым победы»💨😎 Суть проста: нужно выдуть дымком слова «Россияне, с 9 мая вас, родные мои»🙈\\n\\nХороший конкурс) Ставьте тег #дымпобеды и выкладывайте в социальную сеть Инстаграм😁',\n",
       " 'Полный расслабон😃🧘🏽\\u200d♂️\\nВот кому сейчас хорошо - так это кальянщикам) Не жизнь а сказка👌🏼😹Можно отдохнуть от «а че так дорого💸🤬»; «ой горчит чета😅» и «а сколько стоит Ваенгу поставить, братиш🥳😎?» Загляденье🤣\\n\\nОтдыхайте, родные) Набирайтесь сил😉 После карантина замучаем вас😁😈']"
      ]
     },
     "execution_count": 40,
     "metadata": {},
     "output_type": "execute_result"
    }
   ],
   "source": [
    "query = [row[0] for row in query]\n",
    "query"
   ]
  },
  {
   "cell_type": "code",
   "execution_count": 61,
   "metadata": {},
   "outputs": [],
   "source": [
    "pg_chain = ChainStorage.connect('vnkrtv.ru', port=15432, user='vnkrtv', password='Hardpass1337', dbname='markov')\n",
    "pg_encoder = EncoderStorage.connect('vnkrtv.ru', port=15432, user='vnkrtv', password='Hardpass1337', dbname='markov')"
   ]
  },
  {
   "cell_type": "code",
   "execution_count": 68,
   "metadata": {},
   "outputs": [],
   "source": [
    "import re\n",
    "import logging\n",
    "from typing import Iterable\n",
    "\n",
    "import nltk\n",
    "\n",
    "class TextGenerator:\n",
    "    pg_chain: ChainStorage\n",
    "    pg_encoder: EncoderStorage\n",
    "    encoder: WordsEncoder\n",
    "    model_name: str\n",
    "    state_size: int\n",
    "    use_ngrams: bool\n",
    "    ngram_size: int\n",
    "    re_process: re.Pattern = re.compile(r'[^a-zA-Zа-яА-ЯёЁ ]')\n",
    "\n",
    "    def __init__(self,\n",
    "                 pg_chain: ChainStorage,\n",
    "                 pg_encoder: EncoderStorage,\n",
    "                 model_name: str,\n",
    "                 state_size: int,\n",
    "                 input_text: Iterable = None,\n",
    "                 use_ngrams: bool = False,\n",
    "                 ngram_size: int = 3):\n",
    "        self.pg_chain = pg_chain\n",
    "        self.pg_encoder = pg_encoder\n",
    "        self.model_name = model_name\n",
    "        self.state_size = state_size\n",
    "        self.use_ngrams = use_ngrams\n",
    "        self.ngram_size = ngram_size\n",
    "        if input_text:\n",
    "            self.train_model(input_text)\n",
    "        else:\n",
    "            self.encoder = self.pg_encoder.load_encoder(model_name)\n",
    "        logging.info(f'Load model: {self}')\n",
    "\n",
    "    def train_model(self, input_text: Iterable):\n",
    "        if self.use_ngrams:\n",
    "            train_corpus = list(TextProcessor.get_ngram_gen(input_text, self.ngram_size))\n",
    "        else:\n",
    "            train_corpus = list(TextProcessor.get_text_gen(input_text))\n",
    "\n",
    "        self.encoder = WordsEncoder()\n",
    "        encoded_train_corpus = self.encoder.fit_encode(train_corpus)\n",
    "\n",
    "        self.pg_encoder.add_encoder(self.model_name, self.encoder)\n",
    "        self.pg_chain.add_model(self.model_name, encoded_train_corpus, self.state_size)\n",
    "        logging.info(f'Add new model: {self}')\n",
    "\n",
    "    def delete_model(self):\n",
    "        self.pg_chain.delete_model(self.model_name)\n",
    "        self.pg_encoder.delete_encoder(self.model_name)\n",
    "        logging.info(f'Delete model: {self}')\n",
    "\n",
    "    def ngrams_split(self, sentence: str) -> list:\n",
    "        processed_sentence = self.re_process.sub('', sentence.lower())\n",
    "        ngrams_list = [''.join(item) for item in nltk.ngrams(processed_sentence, self.ngram_size)]\n",
    "        return ngrams_list\n",
    "\n",
    "    def words_split(self, sentence: str) -> list:\n",
    "        words_list = []\n",
    "        for word in sentence.split():\n",
    "            processed_word = self.re_process.sub('', word.lower())\n",
    "            if processed_word:\n",
    "                words_list.append(processed_word)\n",
    "        return words_list\n",
    "\n",
    "    def words_join(self, words_list: list) -> str:\n",
    "        return ' '.join(words_list)\n",
    "\n",
    "    def ngrams_join(self, ngrams_list: list) -> str:\n",
    "        return ngrams_list[0][:-1] + ''.join([ngram[-1] for ngram in ngrams_list])\n",
    "\n",
    "    def make_sentence(self, init_state: list, **kwargs):\n",
    "        tries = kwargs.get('tries', 10)\n",
    "        max_words = kwargs.get('max_words', None)\n",
    "        min_words = kwargs.get('min_words', None)\n",
    "\n",
    "        if init_state is not None:\n",
    "            init_state = self.encoder.encode_words_list(init_state)\n",
    "            prefix = init_state\n",
    "            for word in prefix:\n",
    "                if word == self.encoder.begin_word:\n",
    "                    prefix = prefix[1:]\n",
    "                else:\n",
    "                    break\n",
    "        else:\n",
    "            prefix = []\n",
    "\n",
    "        for _ in range(tries):\n",
    "            codes_list = prefix + self.pg_chain.walk(self.model_name, init_state, 100)\n",
    "            words_list = self.encoder.decode_codes_list(codes_list)\n",
    "            if (max_words is not None and len(words_list) > max_words) or (\n",
    "                    min_words is not None and len(words_list) < min_words):\n",
    "                continue\n",
    "            if self.use_ngrams:\n",
    "                return self.ngrams_join(words_list)\n",
    "            return self.words_join(words_list)\n",
    "        return None\n",
    "\n",
    "    def make_sentence_with_start(self, input_phrase: str, **kwargs):\n",
    "        if self.use_ngrams:\n",
    "            items_list = self.ngrams_split(input_phrase)\n",
    "        else:\n",
    "            items_list = self.words_split(input_phrase)\n",
    "        items_count = len(items_list)\n",
    "\n",
    "        if items_count == self.state_size:\n",
    "            init_state = items_list\n",
    "\n",
    "        elif 0 < items_count < self.state_size:\n",
    "            init_state = [self.encoder.begin_word] * (self.state_size - items_count) + items_list\n",
    "        else:\n",
    "            init_state = [self.encoder.begin_word] * self.state_size\n",
    "\n",
    "        return self.make_sentence(init_state, **kwargs)\n",
    "\n",
    "    def make_sentences_for_t9(self,\n",
    "                              beginning: str,\n",
    "                              first_words_count: int = 1,\n",
    "                              count: int = 30,\n",
    "                              phrase_len: int = 5,\n",
    "                              **kwargs) -> list:\n",
    "        phrases = set()\n",
    "        logging.info(\"Model '%s' - beginning: %s\", self.model_name, beginning)\n",
    "        for i in range(count):\n",
    "            phrase = self.make_sentence_with_start(beginning, min_words=phrase_len, **kwargs)\n",
    "            print(phrase)\n",
    "            if phrase:\n",
    "                words_list = phrase.split()\n",
    "                if 1 < len(words_list) >= phrase_len:\n",
    "                    phrases.add(\" \".join(words_list[first_words_count:]))\n",
    "        logging.info(\"Model '%s' - executed: %s\", self.model_name, '\\n'.join(phrases))\n",
    "        return list(phrases)\n",
    "\n",
    "    def __repr__(self):\n",
    "        return '<TextGenerator: model_name=%s, state_size=%s, ngrams=%s>' % (\n",
    "            self.model_name,\n",
    "            self.state_size,\n",
    "            str(self.use_ngrams) + ', ngram_size=' + str(self.ngram_size) if self.use_ngrams else self.use_ngrams)"
   ]
  },
  {
   "cell_type": "code",
   "execution_count": 69,
   "metadata": {},
   "outputs": [],
   "source": [
    "ngram_model = TextGenerator(pg_chain=pg_chain,\n",
    "                            pg_encoder=pg_encoder,\n",
    "#                             input_text=query,\n",
    "                            model_name='kalik',\n",
    "                            state_size=4,\n",
    "                            use_ngrams=True,\n",
    "                            ngram_size=3)"
   ]
  },
  {
   "cell_type": "code",
   "execution_count": 70,
   "metadata": {},
   "outputs": [],
   "source": [
    "a = ngram_model.make_sentence_with_start('пыхтячит')"
   ]
  },
  {
   "cell_type": "code",
   "execution_count": 72,
   "metadata": {},
   "outputs": [
    {
     "data": {
      "text/plain": [
       "'требуем реформу образования петров ты почему не место на этот миф придумали жижабляди чтоб не растерял'"
      ]
     },
     "execution_count": 72,
     "metadata": {},
     "output_type": "execute_result"
    }
   ],
   "source": [
    "a"
   ]
  },
  {
   "cell_type": "code",
   "execution_count": 2,
   "metadata": {},
   "outputs": [],
   "source": [
    "from typing import Generator\n",
    "\n",
    "import psycopg2\n",
    "\n",
    "\n",
    "class PostgresStorage:\n",
    "    \"\"\"\n",
    "    Base class for working with PostgreSQL\n",
    "    \"\"\"\n",
    "\n",
    "    conn: psycopg2.extensions.connection\n",
    "\n",
    "    def __init__(self, conn):\n",
    "        self.conn = conn\n",
    "\n",
    "    @classmethod\n",
    "    def connect(cls,\n",
    "                host: str,\n",
    "                port: int = 5432,\n",
    "                user: str = 'postgres',\n",
    "                password: str = 'password',\n",
    "                dbname: str = 'postgres'):\n",
    "        return cls(conn=psycopg2.connect(\n",
    "            host=host, port=port, user=user, password=password, dbname=dbname)\n",
    "        )\n",
    "\n",
    "    def exec_query(self, query: str, params: list) -> Generator:\n",
    "        cursor = self.conn.cursor()\n",
    "        cursor.execute(query, params)\n",
    "        return cursor.fetchall()\n",
    "\n",
    "    def exec(self, sql: str, params: list):\n",
    "        cursor = self.conn.cursor()\n",
    "        try:\n",
    "            cursor.execute(sql, params)\n",
    "        except psycopg2.Error as e:\n",
    "            self.conn.rollback()\n",
    "            raise e\n",
    "        self.conn.commit()\n"
   ]
  },
  {
   "cell_type": "code",
   "execution_count": 4,
   "metadata": {},
   "outputs": [],
   "source": [
    "pg = PostgresStorage.connect('vnkrtv.ru', port=15432, user='vnkrtv', password='Hardpass1337', dbname='vnkrtv')\n",
    "query = pg.exec_query(\"SELECT text from posts INNER JOIN habs on posts.post_id = habs.post_id WHERE hab = 'Машинное обучение' LIMIT 2200\", [])"
   ]
  },
  {
   "cell_type": "code",
   "execution_count": 7,
   "metadata": {},
   "outputs": [
    {
     "data": {
      "text/plain": [
       "3703249"
      ]
     },
     "execution_count": 7,
     "metadata": {},
     "output_type": "execute_result"
    }
   ],
   "source": [
    "words_count = 0\n",
    "for text in query:\n",
    "    words_count += len(text[0].split())\n",
    "words_count"
   ]
  },
  {
   "cell_type": "code",
   "execution_count": null,
   "metadata": {},
   "outputs": [],
   "source": []
  }
 ],
 "metadata": {
  "kernelspec": {
   "display_name": "Python 3",
   "language": "python",
   "name": "python3"
  },
  "language_info": {
   "codemirror_mode": {
    "name": "ipython",
    "version": 3
   },
   "file_extension": ".py",
   "mimetype": "text/x-python",
   "name": "python",
   "nbconvert_exporter": "python",
   "pygments_lexer": "ipython3",
   "version": "3.7.6"
  }
 },
 "nbformat": 4,
 "nbformat_minor": 4
}
